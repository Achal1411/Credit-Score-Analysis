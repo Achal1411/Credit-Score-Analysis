{
 "cells": [
  {
   "cell_type": "markdown",
   "metadata": {},
   "source": [
    "<h1>Credit Score Analysis<h1>"
   ]
  },
  {
   "cell_type": "markdown",
   "metadata": {},
   "source": [
    "<h1>1. Importing the Packages<h1>"
   ]
  },
  {
   "cell_type": "code",
   "execution_count": null,
   "metadata": {},
   "outputs": [],
   "source": [
    "pd.set_option('display.max_columns',None)\n",
    "pd.set_option('display.float_format', lambda x: '%.3f' % x)"
   ]
  },
  {
   "cell_type": "code",
   "execution_count": 190,
   "metadata": {},
   "outputs": [
    {
     "name": "stdout",
     "output_type": "stream",
     "text": [
      "Populating the interactive namespace from numpy and matplotlib\n"
     ]
    }
   ],
   "source": [
    "\n",
    "import numpy as np\n",
    "import seaborn as sns\n",
    "from datetime import datetime\n",
    "from IPython.display import Image  \n",
    "import pydotplus\n",
    "%pylab inline\n",
    "\n",
    "import sklearn as sk\n",
    "import sklearn.tree as tree\n",
    "\n",
    "import warnings\n",
    "warnings.filterwarnings('ignore')"
   ]
  },
  {
   "cell_type": "code",
   "execution_count": 5,
   "metadata": {},
   "outputs": [],
   "source": [
    "from IPython.core.interactiveshell import InteractiveShell\n",
    "InteractiveShell.ast_node_interactivity = \"all\""
   ]
  },
  {
   "cell_type": "markdown",
   "metadata": {},
   "source": [
    "<h1>2. Importing the Dataset<h1>"
   ]
  },
  {
   "cell_type": "code",
   "execution_count": 6,
   "metadata": {},
   "outputs": [],
   "source": [
    "df = pd.read_csv(r\"A:\\Downloads\\train.csv\",encoding='utf-8')"
   ]
  },
  {
   "cell_type": "markdown",
   "metadata": {},
   "source": [
    "<h1>3. Understanding the Data<h1>"
   ]
  },
  {
   "cell_type": "code",
   "execution_count": 7,
   "metadata": {},
   "outputs": [
    {
     "data": {
      "text/html": [
       "<div>\n",
       "<style scoped>\n",
       "    .dataframe tbody tr th:only-of-type {\n",
       "        vertical-align: middle;\n",
       "    }\n",
       "\n",
       "    .dataframe tbody tr th {\n",
       "        vertical-align: top;\n",
       "    }\n",
       "\n",
       "    .dataframe thead th {\n",
       "        text-align: right;\n",
       "    }\n",
       "</style>\n",
       "<table border=\"1\" class=\"dataframe\">\n",
       "  <thead>\n",
       "    <tr style=\"text-align: right;\">\n",
       "      <th></th>\n",
       "      <th>ID</th>\n",
       "      <th>Customer_ID</th>\n",
       "      <th>Month</th>\n",
       "      <th>Name</th>\n",
       "      <th>Age</th>\n",
       "      <th>SSN</th>\n",
       "      <th>Occupation</th>\n",
       "      <th>Annual_Income</th>\n",
       "      <th>Monthly_Inhand_Salary</th>\n",
       "      <th>Num_Bank_Accounts</th>\n",
       "      <th>...</th>\n",
       "      <th>Credit_Mix</th>\n",
       "      <th>Outstanding_Debt</th>\n",
       "      <th>Credit_Utilization_Ratio</th>\n",
       "      <th>Credit_History_Age</th>\n",
       "      <th>Payment_of_Min_Amount</th>\n",
       "      <th>Total_EMI_per_month</th>\n",
       "      <th>Amount_invested_monthly</th>\n",
       "      <th>Payment_Behaviour</th>\n",
       "      <th>Monthly_Balance</th>\n",
       "      <th>Credit_Score</th>\n",
       "    </tr>\n",
       "  </thead>\n",
       "  <tbody>\n",
       "    <tr>\n",
       "      <th>0</th>\n",
       "      <td>0x1602</td>\n",
       "      <td>CUS_0xd40</td>\n",
       "      <td>January</td>\n",
       "      <td>Aaron Maashoh</td>\n",
       "      <td>23</td>\n",
       "      <td>821-00-0265</td>\n",
       "      <td>Scientist</td>\n",
       "      <td>19114.12</td>\n",
       "      <td>1824.843333</td>\n",
       "      <td>3</td>\n",
       "      <td>...</td>\n",
       "      <td>_</td>\n",
       "      <td>809.98</td>\n",
       "      <td>26.822620</td>\n",
       "      <td>22 Years and 1 Months</td>\n",
       "      <td>No</td>\n",
       "      <td>49.574949</td>\n",
       "      <td>80.41529543900253</td>\n",
       "      <td>High_spent_Small_value_payments</td>\n",
       "      <td>312.49408867943663</td>\n",
       "      <td>Good</td>\n",
       "    </tr>\n",
       "    <tr>\n",
       "      <th>1</th>\n",
       "      <td>0x1603</td>\n",
       "      <td>CUS_0xd40</td>\n",
       "      <td>February</td>\n",
       "      <td>Aaron Maashoh</td>\n",
       "      <td>23</td>\n",
       "      <td>821-00-0265</td>\n",
       "      <td>Scientist</td>\n",
       "      <td>19114.12</td>\n",
       "      <td>NaN</td>\n",
       "      <td>3</td>\n",
       "      <td>...</td>\n",
       "      <td>Good</td>\n",
       "      <td>809.98</td>\n",
       "      <td>31.944960</td>\n",
       "      <td>NaN</td>\n",
       "      <td>No</td>\n",
       "      <td>49.574949</td>\n",
       "      <td>118.28022162236736</td>\n",
       "      <td>Low_spent_Large_value_payments</td>\n",
       "      <td>284.62916249607184</td>\n",
       "      <td>Good</td>\n",
       "    </tr>\n",
       "    <tr>\n",
       "      <th>2</th>\n",
       "      <td>0x1604</td>\n",
       "      <td>CUS_0xd40</td>\n",
       "      <td>March</td>\n",
       "      <td>Aaron Maashoh</td>\n",
       "      <td>-500</td>\n",
       "      <td>821-00-0265</td>\n",
       "      <td>Scientist</td>\n",
       "      <td>19114.12</td>\n",
       "      <td>NaN</td>\n",
       "      <td>3</td>\n",
       "      <td>...</td>\n",
       "      <td>Good</td>\n",
       "      <td>809.98</td>\n",
       "      <td>28.609352</td>\n",
       "      <td>22 Years and 3 Months</td>\n",
       "      <td>No</td>\n",
       "      <td>49.574949</td>\n",
       "      <td>81.699521264648</td>\n",
       "      <td>Low_spent_Medium_value_payments</td>\n",
       "      <td>331.2098628537912</td>\n",
       "      <td>Good</td>\n",
       "    </tr>\n",
       "    <tr>\n",
       "      <th>3</th>\n",
       "      <td>0x1605</td>\n",
       "      <td>CUS_0xd40</td>\n",
       "      <td>April</td>\n",
       "      <td>Aaron Maashoh</td>\n",
       "      <td>23</td>\n",
       "      <td>821-00-0265</td>\n",
       "      <td>Scientist</td>\n",
       "      <td>19114.12</td>\n",
       "      <td>NaN</td>\n",
       "      <td>3</td>\n",
       "      <td>...</td>\n",
       "      <td>Good</td>\n",
       "      <td>809.98</td>\n",
       "      <td>31.377862</td>\n",
       "      <td>22 Years and 4 Months</td>\n",
       "      <td>No</td>\n",
       "      <td>49.574949</td>\n",
       "      <td>199.4580743910713</td>\n",
       "      <td>Low_spent_Small_value_payments</td>\n",
       "      <td>223.45130972736786</td>\n",
       "      <td>Good</td>\n",
       "    </tr>\n",
       "    <tr>\n",
       "      <th>4</th>\n",
       "      <td>0x1606</td>\n",
       "      <td>CUS_0xd40</td>\n",
       "      <td>May</td>\n",
       "      <td>Aaron Maashoh</td>\n",
       "      <td>23</td>\n",
       "      <td>821-00-0265</td>\n",
       "      <td>Scientist</td>\n",
       "      <td>19114.12</td>\n",
       "      <td>1824.843333</td>\n",
       "      <td>3</td>\n",
       "      <td>...</td>\n",
       "      <td>Good</td>\n",
       "      <td>809.98</td>\n",
       "      <td>24.797347</td>\n",
       "      <td>22 Years and 5 Months</td>\n",
       "      <td>No</td>\n",
       "      <td>49.574949</td>\n",
       "      <td>41.420153086217326</td>\n",
       "      <td>High_spent_Medium_value_payments</td>\n",
       "      <td>341.48923103222177</td>\n",
       "      <td>Good</td>\n",
       "    </tr>\n",
       "  </tbody>\n",
       "</table>\n",
       "<p>5 rows × 28 columns</p>\n",
       "</div>"
      ],
      "text/plain": [
       "       ID Customer_ID     Month           Name   Age          SSN Occupation  \\\n",
       "0  0x1602   CUS_0xd40   January  Aaron Maashoh    23  821-00-0265  Scientist   \n",
       "1  0x1603   CUS_0xd40  February  Aaron Maashoh    23  821-00-0265  Scientist   \n",
       "2  0x1604   CUS_0xd40     March  Aaron Maashoh  -500  821-00-0265  Scientist   \n",
       "3  0x1605   CUS_0xd40     April  Aaron Maashoh    23  821-00-0265  Scientist   \n",
       "4  0x1606   CUS_0xd40       May  Aaron Maashoh    23  821-00-0265  Scientist   \n",
       "\n",
       "  Annual_Income  Monthly_Inhand_Salary  Num_Bank_Accounts     ...       \\\n",
       "0      19114.12            1824.843333                  3     ...        \n",
       "1      19114.12                    NaN                  3     ...        \n",
       "2      19114.12                    NaN                  3     ...        \n",
       "3      19114.12                    NaN                  3     ...        \n",
       "4      19114.12            1824.843333                  3     ...        \n",
       "\n",
       "   Credit_Mix  Outstanding_Debt Credit_Utilization_Ratio  \\\n",
       "0           _            809.98                26.822620   \n",
       "1        Good            809.98                31.944960   \n",
       "2        Good            809.98                28.609352   \n",
       "3        Good            809.98                31.377862   \n",
       "4        Good            809.98                24.797347   \n",
       "\n",
       "      Credit_History_Age  Payment_of_Min_Amount Total_EMI_per_month  \\\n",
       "0  22 Years and 1 Months                     No           49.574949   \n",
       "1                    NaN                     No           49.574949   \n",
       "2  22 Years and 3 Months                     No           49.574949   \n",
       "3  22 Years and 4 Months                     No           49.574949   \n",
       "4  22 Years and 5 Months                     No           49.574949   \n",
       "\n",
       "  Amount_invested_monthly                 Payment_Behaviour  \\\n",
       "0       80.41529543900253   High_spent_Small_value_payments   \n",
       "1      118.28022162236736    Low_spent_Large_value_payments   \n",
       "2         81.699521264648   Low_spent_Medium_value_payments   \n",
       "3       199.4580743910713    Low_spent_Small_value_payments   \n",
       "4      41.420153086217326  High_spent_Medium_value_payments   \n",
       "\n",
       "      Monthly_Balance Credit_Score  \n",
       "0  312.49408867943663         Good  \n",
       "1  284.62916249607184         Good  \n",
       "2   331.2098628537912         Good  \n",
       "3  223.45130972736786         Good  \n",
       "4  341.48923103222177         Good  \n",
       "\n",
       "[5 rows x 28 columns]"
      ]
     },
     "execution_count": 7,
     "metadata": {},
     "output_type": "execute_result"
    }
   ],
   "source": [
    "df.head()"
   ]
  },
  {
   "cell_type": "code",
   "execution_count": 8,
   "metadata": {},
   "outputs": [
    {
     "data": {
      "text/plain": [
       "(100000, 28)"
      ]
     },
     "execution_count": 8,
     "metadata": {},
     "output_type": "execute_result"
    }
   ],
   "source": [
    "df.shape"
   ]
  },
  {
   "cell_type": "code",
   "execution_count": 9,
   "metadata": {},
   "outputs": [
    {
     "data": {
      "text/plain": [
       "Index(['ID', 'Customer_ID', 'Month', 'Name', 'Age', 'SSN', 'Occupation',\n",
       "       'Annual_Income', 'Monthly_Inhand_Salary', 'Num_Bank_Accounts',\n",
       "       'Num_Credit_Card', 'Interest_Rate', 'Num_of_Loan', 'Type_of_Loan',\n",
       "       'Delay_from_due_date', 'Num_of_Delayed_Payment', 'Changed_Credit_Limit',\n",
       "       'Num_Credit_Inquiries', 'Credit_Mix', 'Outstanding_Debt',\n",
       "       'Credit_Utilization_Ratio', 'Credit_History_Age',\n",
       "       'Payment_of_Min_Amount', 'Total_EMI_per_month',\n",
       "       'Amount_invested_monthly', 'Payment_Behaviour', 'Monthly_Balance',\n",
       "       'Credit_Score'],\n",
       "      dtype='object')"
      ]
     },
     "execution_count": 9,
     "metadata": {},
     "output_type": "execute_result"
    }
   ],
   "source": [
    "df.columns"
   ]
  },
  {
   "cell_type": "code",
   "execution_count": 10,
   "metadata": {},
   "outputs": [
    {
     "name": "stdout",
     "output_type": "stream",
     "text": [
      "<class 'pandas.core.frame.DataFrame'>\n",
      "RangeIndex: 100000 entries, 0 to 99999\n",
      "Data columns (total 28 columns):\n",
      "ID                          100000 non-null object\n",
      "Customer_ID                 100000 non-null object\n",
      "Month                       100000 non-null object\n",
      "Name                        90015 non-null object\n",
      "Age                         100000 non-null object\n",
      "SSN                         100000 non-null object\n",
      "Occupation                  100000 non-null object\n",
      "Annual_Income               100000 non-null object\n",
      "Monthly_Inhand_Salary       84998 non-null float64\n",
      "Num_Bank_Accounts           100000 non-null int64\n",
      "Num_Credit_Card             100000 non-null int64\n",
      "Interest_Rate               100000 non-null int64\n",
      "Num_of_Loan                 100000 non-null object\n",
      "Type_of_Loan                88592 non-null object\n",
      "Delay_from_due_date         100000 non-null int64\n",
      "Num_of_Delayed_Payment      92998 non-null object\n",
      "Changed_Credit_Limit        100000 non-null object\n",
      "Num_Credit_Inquiries        98035 non-null float64\n",
      "Credit_Mix                  100000 non-null object\n",
      "Outstanding_Debt            100000 non-null object\n",
      "Credit_Utilization_Ratio    100000 non-null float64\n",
      "Credit_History_Age          90970 non-null object\n",
      "Payment_of_Min_Amount       100000 non-null object\n",
      "Total_EMI_per_month         100000 non-null float64\n",
      "Amount_invested_monthly     95521 non-null object\n",
      "Payment_Behaviour           100000 non-null object\n",
      "Monthly_Balance             98800 non-null object\n",
      "Credit_Score                100000 non-null object\n",
      "dtypes: float64(4), int64(4), object(20)\n",
      "memory usage: 21.4+ MB\n"
     ]
    }
   ],
   "source": [
    "df.info()"
   ]
  },
  {
   "cell_type": "markdown",
   "metadata": {},
   "source": [
    "<h1>4. Data Cleaning<h1>"
   ]
  },
  {
   "cell_type": "markdown",
   "metadata": {},
   "source": [
    "Checking Null Values"
   ]
  },
  {
   "cell_type": "code",
   "execution_count": 11,
   "metadata": {},
   "outputs": [
    {
     "data": {
      "text/plain": [
       "ID                              0\n",
       "Customer_ID                     0\n",
       "Month                           0\n",
       "Name                         9985\n",
       "Age                             0\n",
       "SSN                             0\n",
       "Occupation                      0\n",
       "Annual_Income                   0\n",
       "Monthly_Inhand_Salary       15002\n",
       "Num_Bank_Accounts               0\n",
       "Num_Credit_Card                 0\n",
       "Interest_Rate                   0\n",
       "Num_of_Loan                     0\n",
       "Type_of_Loan                11408\n",
       "Delay_from_due_date             0\n",
       "Num_of_Delayed_Payment       7002\n",
       "Changed_Credit_Limit            0\n",
       "Num_Credit_Inquiries         1965\n",
       "Credit_Mix                      0\n",
       "Outstanding_Debt                0\n",
       "Credit_Utilization_Ratio        0\n",
       "Credit_History_Age           9030\n",
       "Payment_of_Min_Amount           0\n",
       "Total_EMI_per_month             0\n",
       "Amount_invested_monthly      4479\n",
       "Payment_Behaviour               0\n",
       "Monthly_Balance              1200\n",
       "Credit_Score                    0\n",
       "dtype: int64"
      ]
     },
     "execution_count": 11,
     "metadata": {},
     "output_type": "execute_result"
    }
   ],
   "source": [
    "df.isna().sum()"
   ]
  },
  {
   "cell_type": "code",
   "execution_count": 12,
   "metadata": {},
   "outputs": [
    {
     "data": {
      "text/plain": [
       "8"
      ]
     },
     "execution_count": 12,
     "metadata": {},
     "output_type": "execute_result"
    }
   ],
   "source": [
    "df.isna().any().sum()"
   ]
  },
  {
   "cell_type": "markdown",
   "metadata": {},
   "source": [
    "Removing Underscore from all the columns that have underscores with the values"
   ]
  },
  {
   "cell_type": "code",
   "execution_count": 13,
   "metadata": {},
   "outputs": [],
   "source": [
    "df['Num_of_Delayed_Payment'] = df.Num_of_Delayed_Payment.str.strip('_')\n",
    "df['Monthly_Balance'] = df.Monthly_Balance.str.strip('_')\n",
    "df['Amount_invested_monthly'] = df.Amount_invested_monthly.str.strip('_')\n",
    "df['Annual_Income'] = df.Annual_Income.str.strip('_')\n",
    "df['Num_of_Loan'] = df.Num_of_Loan.str.strip('_')\n",
    "df['Changed_Credit_Limit'] = df.Changed_Credit_Limit.str.strip('_')\n",
    "df['Outstanding_Debt'] = df.Outstanding_Debt.str.strip('_')\n",
    "df['Age'] = df.Age.str.strip('_')"
   ]
  },
  {
   "cell_type": "code",
   "execution_count": 14,
   "metadata": {},
   "outputs": [],
   "source": [
    "#Changing the current numerical fields from string to their true data type\n",
    "df.Monthly_Balance = df.Monthly_Balance.astype(float)\n",
    "df.Amount_invested_monthly = df.Amount_invested_monthly.astype(float)\n",
    "df.Age = df.Age.astype(int)"
   ]
  },
  {
   "cell_type": "markdown",
   "metadata": {},
   "source": [
    "Updating the SSN column"
   ]
  },
  {
   "cell_type": "code",
   "execution_count": 15,
   "metadata": {},
   "outputs": [
    {
     "data": {
      "text/plain": [
       "array(['821-00-0265', '#F%$D@*&8', '004-07-5839', ..., '133-16-7738',\n",
       "       '031-35-0942', '078-73-5990'], dtype=object)"
      ]
     },
     "execution_count": 15,
     "metadata": {},
     "output_type": "execute_result"
    }
   ],
   "source": [
    "df.SSN.unique()"
   ]
  },
  {
   "cell_type": "code",
   "execution_count": 16,
   "metadata": {},
   "outputs": [
    {
     "data": {
      "text/plain": [
       "5572"
      ]
     },
     "execution_count": 16,
     "metadata": {},
     "output_type": "execute_result"
    }
   ],
   "source": [
    "len(df[df.SSN == '#F%$D@*&8'])"
   ]
  },
  {
   "cell_type": "code",
   "execution_count": 17,
   "metadata": {},
   "outputs": [],
   "source": [
    "#creating a temporary table for the groupby result\n",
    "lookup = df.groupby(['Customer_ID','SSN'],as_index = False).agg({'Monthly_Inhand_Salary':'max',\\\n",
    "                         'Num_Credit_Inquiries':'max', 'Monthly_Balance':'mean', 'Amount_invested_monthly':'mean'})\\\n",
    "                        .rename(columns = {'Monthly_Inhand_Salary':'MIS_Max', \\\n",
    "                         'Num_Credit_Inquiries':'NCI_Max','Monthly_Balance':'MB_Mean', 'Amount_invested_monthly':'AIM_Mean'})"
   ]
  },
  {
   "cell_type": "code",
   "execution_count": 18,
   "metadata": {},
   "outputs": [
    {
     "data": {
      "text/html": [
       "<div>\n",
       "<style scoped>\n",
       "    .dataframe tbody tr th:only-of-type {\n",
       "        vertical-align: middle;\n",
       "    }\n",
       "\n",
       "    .dataframe tbody tr th {\n",
       "        vertical-align: top;\n",
       "    }\n",
       "\n",
       "    .dataframe thead th {\n",
       "        text-align: right;\n",
       "    }\n",
       "</style>\n",
       "<table border=\"1\" class=\"dataframe\">\n",
       "  <thead>\n",
       "    <tr style=\"text-align: right;\">\n",
       "      <th></th>\n",
       "      <th>Customer_ID</th>\n",
       "      <th>SSN</th>\n",
       "    </tr>\n",
       "  </thead>\n",
       "  <tbody>\n",
       "    <tr>\n",
       "      <th>5</th>\n",
       "      <td>CUS_0xd40</td>\n",
       "      <td>821-00-0265</td>\n",
       "    </tr>\n",
       "    <tr>\n",
       "      <th>6</th>\n",
       "      <td>CUS_0xd40</td>\n",
       "      <td>821-00-0265</td>\n",
       "    </tr>\n",
       "    <tr>\n",
       "      <th>7</th>\n",
       "      <td>CUS_0xd40</td>\n",
       "      <td>#F%$D@*&amp;8</td>\n",
       "    </tr>\n",
       "    <tr>\n",
       "      <th>8</th>\n",
       "      <td>CUS_0x21b1</td>\n",
       "      <td>004-07-5839</td>\n",
       "    </tr>\n",
       "    <tr>\n",
       "      <th>9</th>\n",
       "      <td>CUS_0x21b1</td>\n",
       "      <td>004-07-5839</td>\n",
       "    </tr>\n",
       "  </tbody>\n",
       "</table>\n",
       "</div>"
      ],
      "text/plain": [
       "  Customer_ID          SSN\n",
       "5   CUS_0xd40  821-00-0265\n",
       "6   CUS_0xd40  821-00-0265\n",
       "7   CUS_0xd40    #F%$D@*&8\n",
       "8  CUS_0x21b1  004-07-5839\n",
       "9  CUS_0x21b1  004-07-5839"
      ]
     },
     "execution_count": 18,
     "metadata": {},
     "output_type": "execute_result"
    }
   ],
   "source": [
    "df[5:10][['Customer_ID','SSN']]"
   ]
  },
  {
   "cell_type": "code",
   "execution_count": 19,
   "metadata": {},
   "outputs": [],
   "source": [
    "lookup = lookup[lookup.SSN != '#F%$D@*&8']"
   ]
  },
  {
   "cell_type": "code",
   "execution_count": 20,
   "metadata": {},
   "outputs": [],
   "source": [
    "#Merging the dataframes\n",
    "df_ssn = df.merge(lookup, left_on = 'Customer_ID', right_on = 'Customer_ID', how = 'left')"
   ]
  },
  {
   "cell_type": "code",
   "execution_count": 21,
   "metadata": {},
   "outputs": [
    {
     "data": {
      "text/html": [
       "<div>\n",
       "<style scoped>\n",
       "    .dataframe tbody tr th:only-of-type {\n",
       "        vertical-align: middle;\n",
       "    }\n",
       "\n",
       "    .dataframe tbody tr th {\n",
       "        vertical-align: top;\n",
       "    }\n",
       "\n",
       "    .dataframe thead th {\n",
       "        text-align: right;\n",
       "    }\n",
       "</style>\n",
       "<table border=\"1\" class=\"dataframe\">\n",
       "  <thead>\n",
       "    <tr style=\"text-align: right;\">\n",
       "      <th></th>\n",
       "      <th>Customer_ID</th>\n",
       "      <th>SSN_x</th>\n",
       "      <th>SSN_y</th>\n",
       "    </tr>\n",
       "  </thead>\n",
       "  <tbody>\n",
       "    <tr>\n",
       "      <th>5</th>\n",
       "      <td>CUS_0xd40</td>\n",
       "      <td>821-00-0265</td>\n",
       "      <td>821-00-0265</td>\n",
       "    </tr>\n",
       "    <tr>\n",
       "      <th>6</th>\n",
       "      <td>CUS_0xd40</td>\n",
       "      <td>821-00-0265</td>\n",
       "      <td>821-00-0265</td>\n",
       "    </tr>\n",
       "    <tr>\n",
       "      <th>7</th>\n",
       "      <td>CUS_0xd40</td>\n",
       "      <td>#F%$D@*&amp;8</td>\n",
       "      <td>821-00-0265</td>\n",
       "    </tr>\n",
       "    <tr>\n",
       "      <th>8</th>\n",
       "      <td>CUS_0x21b1</td>\n",
       "      <td>004-07-5839</td>\n",
       "      <td>004-07-5839</td>\n",
       "    </tr>\n",
       "    <tr>\n",
       "      <th>9</th>\n",
       "      <td>CUS_0x21b1</td>\n",
       "      <td>004-07-5839</td>\n",
       "      <td>004-07-5839</td>\n",
       "    </tr>\n",
       "  </tbody>\n",
       "</table>\n",
       "</div>"
      ],
      "text/plain": [
       "  Customer_ID        SSN_x        SSN_y\n",
       "5   CUS_0xd40  821-00-0265  821-00-0265\n",
       "6   CUS_0xd40  821-00-0265  821-00-0265\n",
       "7   CUS_0xd40    #F%$D@*&8  821-00-0265\n",
       "8  CUS_0x21b1  004-07-5839  004-07-5839\n",
       "9  CUS_0x21b1  004-07-5839  004-07-5839"
      ]
     },
     "execution_count": 21,
     "metadata": {},
     "output_type": "execute_result"
    }
   ],
   "source": [
    "df_ssn[5:10][['Customer_ID','SSN_x','SSN_y']]"
   ]
  },
  {
   "cell_type": "code",
   "execution_count": 22,
   "metadata": {},
   "outputs": [
    {
     "data": {
      "text/html": [
       "<div>\n",
       "<style scoped>\n",
       "    .dataframe tbody tr th:only-of-type {\n",
       "        vertical-align: middle;\n",
       "    }\n",
       "\n",
       "    .dataframe tbody tr th {\n",
       "        vertical-align: top;\n",
       "    }\n",
       "\n",
       "    .dataframe thead th {\n",
       "        text-align: right;\n",
       "    }\n",
       "</style>\n",
       "<table border=\"1\" class=\"dataframe\">\n",
       "  <thead>\n",
       "    <tr style=\"text-align: right;\">\n",
       "      <th></th>\n",
       "      <th>ID</th>\n",
       "      <th>Customer_ID</th>\n",
       "      <th>Month</th>\n",
       "      <th>Name</th>\n",
       "      <th>Age</th>\n",
       "      <th>SSN_x</th>\n",
       "      <th>Occupation</th>\n",
       "      <th>Annual_Income</th>\n",
       "      <th>Monthly_Inhand_Salary</th>\n",
       "      <th>Num_Bank_Accounts</th>\n",
       "      <th>...</th>\n",
       "      <th>Total_EMI_per_month</th>\n",
       "      <th>Amount_invested_monthly</th>\n",
       "      <th>Payment_Behaviour</th>\n",
       "      <th>Monthly_Balance</th>\n",
       "      <th>Credit_Score</th>\n",
       "      <th>SSN_y</th>\n",
       "      <th>MIS_Max</th>\n",
       "      <th>NCI_Max</th>\n",
       "      <th>MB_Mean</th>\n",
       "      <th>AIM_Mean</th>\n",
       "    </tr>\n",
       "  </thead>\n",
       "  <tbody>\n",
       "  </tbody>\n",
       "</table>\n",
       "<p>0 rows × 33 columns</p>\n",
       "</div>"
      ],
      "text/plain": [
       "Empty DataFrame\n",
       "Columns: [ID, Customer_ID, Month, Name, Age, SSN_x, Occupation, Annual_Income, Monthly_Inhand_Salary, Num_Bank_Accounts, Num_Credit_Card, Interest_Rate, Num_of_Loan, Type_of_Loan, Delay_from_due_date, Num_of_Delayed_Payment, Changed_Credit_Limit, Num_Credit_Inquiries, Credit_Mix, Outstanding_Debt, Credit_Utilization_Ratio, Credit_History_Age, Payment_of_Min_Amount, Total_EMI_per_month, Amount_invested_monthly, Payment_Behaviour, Monthly_Balance, Credit_Score, SSN_y, MIS_Max, NCI_Max, MB_Mean, AIM_Mean]\n",
       "Index: []\n",
       "\n",
       "[0 rows x 33 columns]"
      ]
     },
     "execution_count": 22,
     "metadata": {},
     "output_type": "execute_result"
    }
   ],
   "source": [
    "df_ssn[df_ssn['SSN_y' ]== '#F%$D@*&8']"
   ]
  },
  {
   "cell_type": "code",
   "execution_count": 23,
   "metadata": {},
   "outputs": [],
   "source": [
    "df_ssn = df_ssn.drop(columns = ['SSN_x'],axis = 1)"
   ]
  },
  {
   "cell_type": "code",
   "execution_count": 24,
   "metadata": {},
   "outputs": [
    {
     "data": {
      "text/plain": [
       "100000"
      ]
     },
     "execution_count": 24,
     "metadata": {},
     "output_type": "execute_result"
    }
   ],
   "source": [
    "len(df_ssn)"
   ]
  },
  {
   "cell_type": "code",
   "execution_count": 25,
   "metadata": {},
   "outputs": [],
   "source": [
    "df_ssn.Monthly_Inhand_Salary.replace(to_replace=NaN, value=0, inplace=True)\n",
    "df_ssn.Num_Credit_Inquiries.replace(to_replace=NaN, value=0, inplace=True)\n",
    "df_ssn.Monthly_Balance.fillna(0,inplace=True)\n",
    "df_ssn.MB_Mean.fillna(0,inplace=True)"
   ]
  },
  {
   "cell_type": "markdown",
   "metadata": {},
   "source": [
    "Updating the Monthly Inhand Salary"
   ]
  },
  {
   "cell_type": "code",
   "execution_count": 26,
   "metadata": {},
   "outputs": [],
   "source": [
    "df_ssn['Monthly_Inhand_Salary'] = df_ssn.apply(lambda x: x.Monthly_Inhand_Salary \\\n",
    "                                                        if x.Monthly_Inhand_Salary > 0 else x.MIS_Max , axis = 1)"
   ]
  },
  {
   "cell_type": "code",
   "execution_count": 27,
   "metadata": {},
   "outputs": [],
   "source": [
    "df_ssn = df_ssn.drop(columns = ['MIS_Max'],axis = 1)"
   ]
  },
  {
   "cell_type": "code",
   "execution_count": 28,
   "metadata": {},
   "outputs": [],
   "source": [
    "df_ssn['Num_Credit_Inquiries'] = df_ssn.apply(lambda x: x.Num_Credit_Inquiries \\\n",
    "                                                        if x.Num_Credit_Inquiries > 0 else x.NCI_Max , axis = 1)\n",
    "df_ssn = df_ssn.drop(columns = ['NCI_Max'],axis = 1)\n"
   ]
  },
  {
   "cell_type": "code",
   "execution_count": 29,
   "metadata": {},
   "outputs": [],
   "source": [
    "df_ssn.Num_of_Delayed_Payment.fillna(0,inplace=True)"
   ]
  },
  {
   "cell_type": "markdown",
   "metadata": {},
   "source": [
    "Updating the Monthly balance column"
   ]
  },
  {
   "cell_type": "code",
   "execution_count": 30,
   "metadata": {},
   "outputs": [],
   "source": [
    "df_ssn['Monthly_Balance'] = df_ssn.apply(lambda x: x.Monthly_Balance \\\n",
    "                                                        if x.Monthly_Balance > 0 else x.MB_Mean , axis = 1)"
   ]
  },
  {
   "cell_type": "code",
   "execution_count": 31,
   "metadata": {},
   "outputs": [],
   "source": [
    "df_ssn = df_ssn.drop(columns = ['MB_Mean'],axis = 1)"
   ]
  },
  {
   "cell_type": "markdown",
   "metadata": {},
   "source": [
    "Updating the Amount_invested_monthly column"
   ]
  },
  {
   "cell_type": "code",
   "execution_count": 32,
   "metadata": {},
   "outputs": [],
   "source": [
    "df_ssn['Amount_invested_monthly'] = df_ssn.apply(lambda x: x.Amount_invested_monthly \\\n",
    "                                                        if x.Amount_invested_monthly > 0 else x.AIM_Mean , axis = 1)\n",
    "df_ssn = df_ssn.drop(columns = ['AIM_Mean'],axis = 1)"
   ]
  },
  {
   "cell_type": "code",
   "execution_count": 33,
   "metadata": {},
   "outputs": [
    {
     "data": {
      "text/plain": [
       "ID                              0\n",
       "Customer_ID                     0\n",
       "Month                           0\n",
       "Name                         9985\n",
       "Age                             0\n",
       "Occupation                      0\n",
       "Annual_Income                   0\n",
       "Monthly_Inhand_Salary           0\n",
       "Num_Bank_Accounts               0\n",
       "Num_Credit_Card                 0\n",
       "Interest_Rate                   0\n",
       "Num_of_Loan                     0\n",
       "Type_of_Loan                11408\n",
       "Delay_from_due_date             0\n",
       "Num_of_Delayed_Payment          0\n",
       "Changed_Credit_Limit            0\n",
       "Num_Credit_Inquiries            0\n",
       "Credit_Mix                      0\n",
       "Outstanding_Debt                0\n",
       "Credit_Utilization_Ratio        0\n",
       "Credit_History_Age           9030\n",
       "Payment_of_Min_Amount           0\n",
       "Total_EMI_per_month             0\n",
       "Amount_invested_monthly         0\n",
       "Payment_Behaviour               0\n",
       "Monthly_Balance                 0\n",
       "Credit_Score                    0\n",
       "SSN_y                           0\n",
       "dtype: int64"
      ]
     },
     "execution_count": 33,
     "metadata": {},
     "output_type": "execute_result"
    }
   ],
   "source": [
    "df_ssn.isna().sum()"
   ]
  },
  {
   "cell_type": "code",
   "execution_count": 34,
   "metadata": {},
   "outputs": [
    {
     "data": {
      "text/html": [
       "<div>\n",
       "<style scoped>\n",
       "    .dataframe tbody tr th:only-of-type {\n",
       "        vertical-align: middle;\n",
       "    }\n",
       "\n",
       "    .dataframe tbody tr th {\n",
       "        vertical-align: top;\n",
       "    }\n",
       "\n",
       "    .dataframe thead th {\n",
       "        text-align: right;\n",
       "    }\n",
       "</style>\n",
       "<table border=\"1\" class=\"dataframe\">\n",
       "  <thead>\n",
       "    <tr style=\"text-align: right;\">\n",
       "      <th></th>\n",
       "      <th>Customer_ID</th>\n",
       "      <th>Name</th>\n",
       "    </tr>\n",
       "  </thead>\n",
       "  <tbody>\n",
       "    <tr>\n",
       "      <th>16</th>\n",
       "      <td>CUS_0x2dbc</td>\n",
       "      <td>Langep</td>\n",
       "    </tr>\n",
       "    <tr>\n",
       "      <th>11872</th>\n",
       "      <td>CUS_0xaf95</td>\n",
       "      <td>Langep</td>\n",
       "    </tr>\n",
       "    <tr>\n",
       "      <th>44856</th>\n",
       "      <td>CUS_0x109d</td>\n",
       "      <td>Langep</td>\n",
       "    </tr>\n",
       "    <tr>\n",
       "      <th>53272</th>\n",
       "      <td>CUS_0x4854</td>\n",
       "      <td>Langep</td>\n",
       "    </tr>\n",
       "    <tr>\n",
       "      <th>61376</th>\n",
       "      <td>CUS_0xba1c</td>\n",
       "      <td>Langep</td>\n",
       "    </tr>\n",
       "    <tr>\n",
       "      <th>76872</th>\n",
       "      <td>CUS_0x7a96</td>\n",
       "      <td>Langep</td>\n",
       "    </tr>\n",
       "  </tbody>\n",
       "</table>\n",
       "</div>"
      ],
      "text/plain": [
       "      Customer_ID    Name\n",
       "16     CUS_0x2dbc  Langep\n",
       "11872  CUS_0xaf95  Langep\n",
       "44856  CUS_0x109d  Langep\n",
       "53272  CUS_0x4854  Langep\n",
       "61376  CUS_0xba1c  Langep\n",
       "76872  CUS_0x7a96  Langep"
      ]
     },
     "execution_count": 34,
     "metadata": {},
     "output_type": "execute_result"
    }
   ],
   "source": [
    "df_ssn[df_ssn.Name == 'Langep'][['Customer_ID','Name']].drop_duplicates()"
   ]
  },
  {
   "cell_type": "code",
   "execution_count": 35,
   "metadata": {},
   "outputs": [],
   "source": [
    "df_ssn = df_ssn.drop(columns = ['Name'],axis = 1)\n",
    "df_clean = df_ssn.copy()"
   ]
  },
  {
   "cell_type": "code",
   "execution_count": 36,
   "metadata": {},
   "outputs": [
    {
     "data": {
      "text/plain": [
       "100000"
      ]
     },
     "execution_count": 36,
     "metadata": {},
     "output_type": "execute_result"
    }
   ],
   "source": [
    "len(df_clean)"
   ]
  },
  {
   "cell_type": "markdown",
   "metadata": {},
   "source": [
    "There are a few data entry mistakes in the age sections."
   ]
  },
  {
   "cell_type": "code",
   "execution_count": 37,
   "metadata": {},
   "outputs": [
    {
     "data": {
      "text/plain": [
       "-500"
      ]
     },
     "execution_count": 37,
     "metadata": {},
     "output_type": "execute_result"
    },
    {
     "data": {
      "text/plain": [
       "8698"
      ]
     },
     "execution_count": 37,
     "metadata": {},
     "output_type": "execute_result"
    }
   ],
   "source": [
    "df_clean.Age.min()\n",
    "df_clean.Age.max()"
   ]
  },
  {
   "cell_type": "code",
   "execution_count": 38,
   "metadata": {},
   "outputs": [
    {
     "data": {
      "text/html": [
       "<div>\n",
       "<style scoped>\n",
       "    .dataframe tbody tr th:only-of-type {\n",
       "        vertical-align: middle;\n",
       "    }\n",
       "\n",
       "    .dataframe tbody tr th {\n",
       "        vertical-align: top;\n",
       "    }\n",
       "\n",
       "    .dataframe thead th {\n",
       "        text-align: right;\n",
       "    }\n",
       "</style>\n",
       "<table border=\"1\" class=\"dataframe\">\n",
       "  <thead>\n",
       "    <tr style=\"text-align: right;\">\n",
       "      <th></th>\n",
       "      <th>Customer_ID</th>\n",
       "      <th>SSN_y</th>\n",
       "      <th>Age</th>\n",
       "    </tr>\n",
       "  </thead>\n",
       "  <tbody>\n",
       "    <tr>\n",
       "      <th>0</th>\n",
       "      <td>CUS_0xd40</td>\n",
       "      <td>821-00-0265</td>\n",
       "      <td>23</td>\n",
       "    </tr>\n",
       "    <tr>\n",
       "      <th>1</th>\n",
       "      <td>CUS_0xd40</td>\n",
       "      <td>821-00-0265</td>\n",
       "      <td>23</td>\n",
       "    </tr>\n",
       "    <tr>\n",
       "      <th>2</th>\n",
       "      <td>CUS_0xd40</td>\n",
       "      <td>821-00-0265</td>\n",
       "      <td>-500</td>\n",
       "    </tr>\n",
       "    <tr>\n",
       "      <th>3</th>\n",
       "      <td>CUS_0xd40</td>\n",
       "      <td>821-00-0265</td>\n",
       "      <td>23</td>\n",
       "    </tr>\n",
       "    <tr>\n",
       "      <th>4</th>\n",
       "      <td>CUS_0xd40</td>\n",
       "      <td>821-00-0265</td>\n",
       "      <td>23</td>\n",
       "    </tr>\n",
       "    <tr>\n",
       "      <th>5</th>\n",
       "      <td>CUS_0xd40</td>\n",
       "      <td>821-00-0265</td>\n",
       "      <td>23</td>\n",
       "    </tr>\n",
       "    <tr>\n",
       "      <th>6</th>\n",
       "      <td>CUS_0xd40</td>\n",
       "      <td>821-00-0265</td>\n",
       "      <td>23</td>\n",
       "    </tr>\n",
       "    <tr>\n",
       "      <th>7</th>\n",
       "      <td>CUS_0xd40</td>\n",
       "      <td>821-00-0265</td>\n",
       "      <td>23</td>\n",
       "    </tr>\n",
       "  </tbody>\n",
       "</table>\n",
       "</div>"
      ],
      "text/plain": [
       "  Customer_ID        SSN_y  Age\n",
       "0   CUS_0xd40  821-00-0265   23\n",
       "1   CUS_0xd40  821-00-0265   23\n",
       "2   CUS_0xd40  821-00-0265 -500\n",
       "3   CUS_0xd40  821-00-0265   23\n",
       "4   CUS_0xd40  821-00-0265   23\n",
       "5   CUS_0xd40  821-00-0265   23\n",
       "6   CUS_0xd40  821-00-0265   23\n",
       "7   CUS_0xd40  821-00-0265   23"
      ]
     },
     "execution_count": 38,
     "metadata": {},
     "output_type": "execute_result"
    }
   ],
   "source": [
    "df_clean[df_clean.Customer_ID == 'CUS_0xd40'][['Customer_ID','SSN_y','Age']]"
   ]
  },
  {
   "cell_type": "code",
   "execution_count": 39,
   "metadata": {},
   "outputs": [],
   "source": [
    "df_age = df_clean[((df_clean.Age).astype(int)>-1) & ((df_clean.Age).astype(int)<100)]"
   ]
  },
  {
   "cell_type": "code",
   "execution_count": 40,
   "metadata": {},
   "outputs": [
    {
     "data": {
      "text/plain": [
       "14"
      ]
     },
     "execution_count": 40,
     "metadata": {},
     "output_type": "execute_result"
    },
    {
     "data": {
      "text/plain": [
       "99"
      ]
     },
     "execution_count": 40,
     "metadata": {},
     "output_type": "execute_result"
    }
   ],
   "source": [
    "df_age = df_age[['SSN_y','Age']]\n",
    "df_age.Age.min()\n",
    "df_age.Age.max()"
   ]
  },
  {
   "cell_type": "code",
   "execution_count": 41,
   "metadata": {},
   "outputs": [],
   "source": [
    "df_age = df_age.drop_duplicates()\n",
    "df_age = df_age.drop_duplicates(subset = ['SSN_y'])"
   ]
  },
  {
   "cell_type": "markdown",
   "metadata": {},
   "source": [
    "Updating the age column with crct age"
   ]
  },
  {
   "cell_type": "code",
   "execution_count": 42,
   "metadata": {},
   "outputs": [],
   "source": [
    "df_clean = df_clean.merge(df_age, left_on = 'SSN_y', right_on = 'SSN_y', how = 'left')"
   ]
  },
  {
   "cell_type": "code",
   "execution_count": 43,
   "metadata": {},
   "outputs": [],
   "source": [
    "df_clean['Age_x'] = df_clean.apply(lambda x: x.Age_y \\\n",
    "                                                        if ((x.Age_x > 100) | (x.Age_x <0)) else x.Age_x , axis = 1)"
   ]
  },
  {
   "cell_type": "code",
   "execution_count": 44,
   "metadata": {},
   "outputs": [
    {
     "data": {
      "text/html": [
       "<div>\n",
       "<style scoped>\n",
       "    .dataframe tbody tr th:only-of-type {\n",
       "        vertical-align: middle;\n",
       "    }\n",
       "\n",
       "    .dataframe tbody tr th {\n",
       "        vertical-align: top;\n",
       "    }\n",
       "\n",
       "    .dataframe thead th {\n",
       "        text-align: right;\n",
       "    }\n",
       "</style>\n",
       "<table border=\"1\" class=\"dataframe\">\n",
       "  <thead>\n",
       "    <tr style=\"text-align: right;\">\n",
       "      <th></th>\n",
       "      <th>Customer_ID</th>\n",
       "      <th>SSN_y</th>\n",
       "      <th>Age_x</th>\n",
       "      <th>Age_y</th>\n",
       "    </tr>\n",
       "  </thead>\n",
       "  <tbody>\n",
       "    <tr>\n",
       "      <th>0</th>\n",
       "      <td>CUS_0xd40</td>\n",
       "      <td>821-00-0265</td>\n",
       "      <td>23</td>\n",
       "      <td>23</td>\n",
       "    </tr>\n",
       "    <tr>\n",
       "      <th>1</th>\n",
       "      <td>CUS_0xd40</td>\n",
       "      <td>821-00-0265</td>\n",
       "      <td>23</td>\n",
       "      <td>23</td>\n",
       "    </tr>\n",
       "    <tr>\n",
       "      <th>2</th>\n",
       "      <td>CUS_0xd40</td>\n",
       "      <td>821-00-0265</td>\n",
       "      <td>23</td>\n",
       "      <td>23</td>\n",
       "    </tr>\n",
       "    <tr>\n",
       "      <th>3</th>\n",
       "      <td>CUS_0xd40</td>\n",
       "      <td>821-00-0265</td>\n",
       "      <td>23</td>\n",
       "      <td>23</td>\n",
       "    </tr>\n",
       "    <tr>\n",
       "      <th>4</th>\n",
       "      <td>CUS_0xd40</td>\n",
       "      <td>821-00-0265</td>\n",
       "      <td>23</td>\n",
       "      <td>23</td>\n",
       "    </tr>\n",
       "    <tr>\n",
       "      <th>5</th>\n",
       "      <td>CUS_0xd40</td>\n",
       "      <td>821-00-0265</td>\n",
       "      <td>23</td>\n",
       "      <td>23</td>\n",
       "    </tr>\n",
       "    <tr>\n",
       "      <th>6</th>\n",
       "      <td>CUS_0xd40</td>\n",
       "      <td>821-00-0265</td>\n",
       "      <td>23</td>\n",
       "      <td>23</td>\n",
       "    </tr>\n",
       "    <tr>\n",
       "      <th>7</th>\n",
       "      <td>CUS_0xd40</td>\n",
       "      <td>821-00-0265</td>\n",
       "      <td>23</td>\n",
       "      <td>23</td>\n",
       "    </tr>\n",
       "  </tbody>\n",
       "</table>\n",
       "</div>"
      ],
      "text/plain": [
       "  Customer_ID        SSN_y  Age_x  Age_y\n",
       "0   CUS_0xd40  821-00-0265     23     23\n",
       "1   CUS_0xd40  821-00-0265     23     23\n",
       "2   CUS_0xd40  821-00-0265     23     23\n",
       "3   CUS_0xd40  821-00-0265     23     23\n",
       "4   CUS_0xd40  821-00-0265     23     23\n",
       "5   CUS_0xd40  821-00-0265     23     23\n",
       "6   CUS_0xd40  821-00-0265     23     23\n",
       "7   CUS_0xd40  821-00-0265     23     23"
      ]
     },
     "execution_count": 44,
     "metadata": {},
     "output_type": "execute_result"
    }
   ],
   "source": [
    "df_clean[df_clean.Customer_ID == 'CUS_0xd40'][['Customer_ID','SSN_y','Age_x','Age_y']]"
   ]
  },
  {
   "cell_type": "code",
   "execution_count": 45,
   "metadata": {},
   "outputs": [],
   "source": [
    "df_clean = df_clean.drop(columns = ['Age_y'],axis = 1)\n",
    "df_clean.rename(columns = {'Age_x':'Age'}, inplace = True)"
   ]
  },
  {
   "cell_type": "code",
   "execution_count": 46,
   "metadata": {},
   "outputs": [],
   "source": [
    "del(df_age)"
   ]
  },
  {
   "cell_type": "markdown",
   "metadata": {},
   "source": [
    "Cleaning Payment Behavior column"
   ]
  },
  {
   "cell_type": "code",
   "execution_count": 47,
   "metadata": {},
   "outputs": [
    {
     "data": {
      "text/plain": [
       "array(['High_spent_Small_value_payments',\n",
       "       'Low_spent_Large_value_payments',\n",
       "       'Low_spent_Medium_value_payments',\n",
       "       'Low_spent_Small_value_payments',\n",
       "       'High_spent_Medium_value_payments', '!@9#%8',\n",
       "       'High_spent_Large_value_payments'], dtype=object)"
      ]
     },
     "execution_count": 47,
     "metadata": {},
     "output_type": "execute_result"
    }
   ],
   "source": [
    "df_clean['Payment_Behaviour'].unique()"
   ]
  },
  {
   "cell_type": "code",
   "execution_count": 48,
   "metadata": {},
   "outputs": [],
   "source": [
    "df_pb = df_clean[df_clean['Payment_Behaviour'] != '!@9#%8'][['SSN_y','Payment_Behaviour']]"
   ]
  },
  {
   "cell_type": "code",
   "execution_count": 49,
   "metadata": {},
   "outputs": [],
   "source": [
    "df_pb = df_pb.drop_duplicates()\n",
    "df_pb = df_pb.drop_duplicates(subset = ['SSN_y'])"
   ]
  },
  {
   "cell_type": "code",
   "execution_count": 50,
   "metadata": {},
   "outputs": [
    {
     "data": {
      "text/html": [
       "<div>\n",
       "<style scoped>\n",
       "    .dataframe tbody tr th:only-of-type {\n",
       "        vertical-align: middle;\n",
       "    }\n",
       "\n",
       "    .dataframe tbody tr th {\n",
       "        vertical-align: top;\n",
       "    }\n",
       "\n",
       "    .dataframe thead th {\n",
       "        text-align: right;\n",
       "    }\n",
       "</style>\n",
       "<table border=\"1\" class=\"dataframe\">\n",
       "  <thead>\n",
       "    <tr style=\"text-align: right;\">\n",
       "      <th></th>\n",
       "      <th>SSN_y</th>\n",
       "      <th>Payment_Behaviour</th>\n",
       "    </tr>\n",
       "  </thead>\n",
       "  <tbody>\n",
       "    <tr>\n",
       "      <th>0</th>\n",
       "      <td>821-00-0265</td>\n",
       "      <td>High_spent_Small_value_payments</td>\n",
       "    </tr>\n",
       "    <tr>\n",
       "      <th>8</th>\n",
       "      <td>004-07-5839</td>\n",
       "      <td>Low_spent_Small_value_payments</td>\n",
       "    </tr>\n",
       "  </tbody>\n",
       "</table>\n",
       "</div>"
      ],
      "text/plain": [
       "         SSN_y                Payment_Behaviour\n",
       "0  821-00-0265  High_spent_Small_value_payments\n",
       "8  004-07-5839   Low_spent_Small_value_payments"
      ]
     },
     "execution_count": 50,
     "metadata": {},
     "output_type": "execute_result"
    }
   ],
   "source": [
    "df_pb.head(2)"
   ]
  },
  {
   "cell_type": "code",
   "execution_count": 51,
   "metadata": {},
   "outputs": [],
   "source": [
    "df_clean= df_clean.merge(df_pb, left_on = 'SSN_y', right_on = 'SSN_y', how = 'left')"
   ]
  },
  {
   "cell_type": "code",
   "execution_count": 52,
   "metadata": {},
   "outputs": [],
   "source": [
    "df_clean.rename(columns = {'Payment_Behaviour_y':'Payment_Behaviour'}, inplace = True)\n",
    "df_clean = df_clean.drop(columns = ['Payment_Behaviour_x'],axis = 1)"
   ]
  },
  {
   "cell_type": "markdown",
   "metadata": {},
   "source": [
    "There are some blank spaces in Occupation Columns"
   ]
  },
  {
   "cell_type": "code",
   "execution_count": 53,
   "metadata": {},
   "outputs": [
    {
     "data": {
      "text/plain": [
       "array(['Scientist', '_______', 'Teacher', 'Engineer', 'Entrepreneur',\n",
       "       'Developer', 'Lawyer', 'Media_Manager', 'Doctor', 'Journalist',\n",
       "       'Manager', 'Accountant', 'Musician', 'Mechanic', 'Writer',\n",
       "       'Architect'], dtype=object)"
      ]
     },
     "execution_count": 53,
     "metadata": {},
     "output_type": "execute_result"
    }
   ],
   "source": [
    "df_clean.Occupation.unique()"
   ]
  },
  {
   "cell_type": "code",
   "execution_count": 54,
   "metadata": {},
   "outputs": [
    {
     "data": {
      "text/plain": [
       "array(['Scientist', 'Teacher', 'Engineer', 'Entrepreneur', 'Developer',\n",
       "       'Lawyer', 'Media_Manager', 'Doctor', 'Journalist', 'Manager',\n",
       "       'Accountant', 'Musician', 'Mechanic', 'Writer', 'Architect'],\n",
       "      dtype=object)"
      ]
     },
     "execution_count": 54,
     "metadata": {},
     "output_type": "execute_result"
    }
   ],
   "source": [
    "df_occu = df_clean[df_clean.Occupation!= '_______'][['SSN_y','Occupation']]\n",
    "df_occu.Occupation.unique()"
   ]
  },
  {
   "cell_type": "code",
   "execution_count": 55,
   "metadata": {},
   "outputs": [],
   "source": [
    "df_occu = df_occu.drop_duplicates()\n",
    "df_occu = df_occu.drop_duplicates(subset = ['SSN_y'])"
   ]
  },
  {
   "cell_type": "markdown",
   "metadata": {},
   "source": [
    "Updating the occupation with correct occupation for each unique ssn"
   ]
  },
  {
   "cell_type": "code",
   "execution_count": 56,
   "metadata": {},
   "outputs": [],
   "source": [
    "df_clean = df_clean.merge(df_occu, left_on = 'SSN_y', right_on = 'SSN_y', how = 'left')\n",
    "#dropping and renaming extra columns\n",
    "df_clean = df_clean.drop(columns = ['Occupation_x'],axis = 1)\n",
    "df_clean.rename(columns = {'Occupation_y':'Occupation'}, inplace = True)\n",
    "#deleting temp dataframe\n",
    "del(df_occu) "
   ]
  },
  {
   "cell_type": "markdown",
   "metadata": {},
   "source": [
    "Now we have some underscore in credit mix column"
   ]
  },
  {
   "cell_type": "code",
   "execution_count": 57,
   "metadata": {},
   "outputs": [
    {
     "data": {
      "text/plain": [
       "array(['_', 'Good', 'Standard', 'Bad'], dtype=object)"
      ]
     },
     "execution_count": 57,
     "metadata": {},
     "output_type": "execute_result"
    }
   ],
   "source": [
    "df_clean.Credit_Mix.unique()"
   ]
  },
  {
   "cell_type": "code",
   "execution_count": 58,
   "metadata": {},
   "outputs": [
    {
     "data": {
      "text/plain": [
       "array(['Good', 'Standard', 'Bad'], dtype=object)"
      ]
     },
     "execution_count": 58,
     "metadata": {},
     "output_type": "execute_result"
    }
   ],
   "source": [
    "df_cm = df_clean[df_clean.Credit_Mix!= '_'][['SSN_y','Credit_Mix']]\n",
    "df_cm.Credit_Mix.unique()"
   ]
  },
  {
   "cell_type": "code",
   "execution_count": 59,
   "metadata": {},
   "outputs": [],
   "source": [
    "df_cm = df_cm.drop_duplicates()\n",
    "df_cm = df_cm.drop_duplicates(subset = ['SSN_y'])"
   ]
  },
  {
   "cell_type": "code",
   "execution_count": 60,
   "metadata": {},
   "outputs": [],
   "source": [
    "df_clean = df_clean.merge(df_cm, left_on = 'SSN_y', right_on = 'SSN_y', how = 'left')"
   ]
  },
  {
   "cell_type": "code",
   "execution_count": 61,
   "metadata": {},
   "outputs": [],
   "source": [
    "df_clean = df_clean.drop(columns = ['Credit_Mix_x'],axis = 1)\n",
    "df_clean.rename(columns = {'Credit_Mix_y':'Credit_Mix'}, inplace = True)\n",
    "del(df_cm) #deleting temporary columns"
   ]
  },
  {
   "cell_type": "code",
   "execution_count": 62,
   "metadata": {},
   "outputs": [
    {
     "data": {
      "text/plain": [
       "2091"
      ]
     },
     "execution_count": 62,
     "metadata": {},
     "output_type": "execute_result"
    }
   ],
   "source": [
    "len(df_clean[df_clean.Changed_Credit_Limit == ''])"
   ]
  },
  {
   "cell_type": "code",
   "execution_count": 63,
   "metadata": {},
   "outputs": [],
   "source": [
    "df_ccl = df_clean[df_clean.Changed_Credit_Limit!= ''][['SSN_y','Changed_Credit_Limit']]\n",
    "df_ccl = df_ccl.drop_duplicates()\n",
    "df_ccl = df_ccl.drop_duplicates(subset = ['SSN_y'])"
   ]
  },
  {
   "cell_type": "markdown",
   "metadata": {},
   "source": [
    "Updating the correct Changed_Credit_Limit values using SSN"
   ]
  },
  {
   "cell_type": "code",
   "execution_count": 64,
   "metadata": {},
   "outputs": [],
   "source": [
    "df_clean = df_clean.merge(df_ccl, left_on = 'SSN_y', right_on = 'SSN_y', how = 'left')\n",
    "#Dropping and Renaming columns\n",
    "df_clean = df_clean.drop(columns = ['Changed_Credit_Limit_x'],axis = 1)\n",
    "df_clean.rename(columns = {'Changed_Credit_Limit_y':'Changed_Credit_Limit'}, inplace = True)"
   ]
  },
  {
   "cell_type": "code",
   "execution_count": 65,
   "metadata": {},
   "outputs": [
    {
     "data": {
      "text/plain": [
       "0"
      ]
     },
     "execution_count": 65,
     "metadata": {},
     "output_type": "execute_result"
    }
   ],
   "source": [
    "len(df_clean[df_clean.Changed_Credit_Limit == ''])"
   ]
  },
  {
   "cell_type": "code",
   "execution_count": 66,
   "metadata": {},
   "outputs": [],
   "source": [
    "del(df_ccl) "
   ]
  },
  {
   "cell_type": "code",
   "execution_count": 67,
   "metadata": {},
   "outputs": [],
   "source": [
    "df_clean['Credit_History_Age'] = df_clean.Credit_History_Age.str.rstrip(' Months')"
   ]
  },
  {
   "cell_type": "code",
   "execution_count": 68,
   "metadata": {},
   "outputs": [],
   "source": [
    "df_CHA = df_clean.Credit_History_Age.str.split(\" Years and \",expand=True).rename(columns={0: 'Credit_history_years', 1: 'Credit_history_months'})"
   ]
  },
  {
   "cell_type": "code",
   "execution_count": 69,
   "metadata": {},
   "outputs": [],
   "source": [
    "df_CHA['Credit_history_total_months'] = (df_CHA.Credit_history_months).astype(float) + ((df_CHA.Credit_history_years).astype(float))*12"
   ]
  },
  {
   "cell_type": "code",
   "execution_count": 70,
   "metadata": {},
   "outputs": [],
   "source": [
    "df_clean['Credit_History_Age'] = df_CHA.Credit_history_total_months\n",
    "df_CHA  = df_CHA.Credit_history_total_months"
   ]
  },
  {
   "cell_type": "markdown",
   "metadata": {},
   "source": [
    "Now for credit history age in order to replace nan by correct values we have to add 1 to a person's previous month credit history age. To do that we are shifting that column once"
   ]
  },
  {
   "cell_type": "code",
   "execution_count": 71,
   "metadata": {},
   "outputs": [],
   "source": [
    "df_CHA = df_CHA.shift(1)\n",
    "df_clean['CHA_Up'] = df_CHA"
   ]
  },
  {
   "cell_type": "code",
   "execution_count": 72,
   "metadata": {},
   "outputs": [],
   "source": [
    "df_clean.Credit_History_Age.fillna(0,inplace=True)"
   ]
  },
  {
   "cell_type": "code",
   "execution_count": 73,
   "metadata": {},
   "outputs": [],
   "source": [
    "df_clean.Credit_History_Age = df_clean.Credit_History_Age.astype(float)"
   ]
  },
  {
   "cell_type": "code",
   "execution_count": 74,
   "metadata": {},
   "outputs": [],
   "source": [
    "df_clean['Credit_History_Age'] = df_clean.apply(lambda x: x.Credit_History_Age \\\n",
    "                                                        if x.Credit_History_Age > 0 else x.CHA_Up + 1 , axis = 1)"
   ]
  },
  {
   "cell_type": "markdown",
   "metadata": {},
   "source": [
    "Replacing the correct credit history age using SSN"
   ]
  },
  {
   "cell_type": "code",
   "execution_count": 75,
   "metadata": {},
   "outputs": [],
   "source": [
    "df_clean.CHA_Up = df_clean.CHA_Up.shift(1)"
   ]
  },
  {
   "cell_type": "code",
   "execution_count": 76,
   "metadata": {},
   "outputs": [
    {
     "data": {
      "text/plain": [
       "72"
      ]
     },
     "execution_count": 76,
     "metadata": {},
     "output_type": "execute_result"
    }
   ],
   "source": [
    "df_clean['Credit_History_Age'] = df_clean.apply(lambda x: x.Credit_History_Age \\\n",
    "                                                        if x.Credit_History_Age > 0 else x.CHA_Up + 2 , axis = 1)\n",
    "df_clean.Credit_History_Age.isna().sum()"
   ]
  },
  {
   "cell_type": "markdown",
   "metadata": {},
   "source": [
    "Now our nans are reduced to 72"
   ]
  },
  {
   "cell_type": "code",
   "execution_count": 77,
   "metadata": {},
   "outputs": [],
   "source": [
    "df_clean.CHA_Up = df_clean.CHA_Up.shift(1)"
   ]
  },
  {
   "cell_type": "code",
   "execution_count": 78,
   "metadata": {},
   "outputs": [
    {
     "data": {
      "text/plain": [
       "6"
      ]
     },
     "execution_count": 78,
     "metadata": {},
     "output_type": "execute_result"
    }
   ],
   "source": [
    "df_clean['Credit_History_Age'] = df_clean.apply(lambda x: x.Credit_History_Age \\\n",
    "                                                        if x.Credit_History_Age > 0 else x.CHA_Up + 3 , axis = 1)\n",
    "df_clean.Credit_History_Age.isna().sum()"
   ]
  },
  {
   "cell_type": "code",
   "execution_count": 79,
   "metadata": {},
   "outputs": [],
   "source": [
    "df_clean.CHA_Up = df_clean.CHA_Up.shift(1)"
   ]
  },
  {
   "cell_type": "code",
   "execution_count": 80,
   "metadata": {},
   "outputs": [
    {
     "data": {
      "text/plain": [
       "1"
      ]
     },
     "execution_count": 80,
     "metadata": {},
     "output_type": "execute_result"
    }
   ],
   "source": [
    "df_clean['Credit_History_Age'] = df_clean.apply(lambda x: x.Credit_History_Age \\\n",
    "                                                        if x.Credit_History_Age > 0 else x.CHA_Up + 4 , axis = 1)\n",
    "df_clean.Credit_History_Age.isna().sum()"
   ]
  },
  {
   "cell_type": "code",
   "execution_count": 81,
   "metadata": {},
   "outputs": [],
   "source": [
    "df_clean.CHA_Up = df_clean.CHA_Up.shift(1)"
   ]
  },
  {
   "cell_type": "code",
   "execution_count": 82,
   "metadata": {},
   "outputs": [
    {
     "data": {
      "text/plain": [
       "0"
      ]
     },
     "execution_count": 82,
     "metadata": {},
     "output_type": "execute_result"
    }
   ],
   "source": [
    "df_clean['Credit_History_Age'] = df_clean.apply(lambda x: x.Credit_History_Age \\\n",
    "                                                        if x.Credit_History_Age > 0 else x.CHA_Up + 5 , axis = 1)\n",
    "df_clean.Credit_History_Age.isna().sum()"
   ]
  },
  {
   "cell_type": "markdown",
   "metadata": {},
   "source": [
    "Now the total Nan's are 0"
   ]
  },
  {
   "cell_type": "code",
   "execution_count": 83,
   "metadata": {},
   "outputs": [],
   "source": [
    "#dropping the columns\n",
    "df_clean = df_clean.drop(columns = ['CHA_Up'],axis = 1)"
   ]
  },
  {
   "cell_type": "code",
   "execution_count": 84,
   "metadata": {},
   "outputs": [],
   "source": [
    "del(df_CHA) #deleting temp table"
   ]
  },
  {
   "cell_type": "markdown",
   "metadata": {},
   "source": [
    "We have some high interest rates which can be Data Entry Errors. So we are cleaning those errors."
   ]
  },
  {
   "cell_type": "code",
   "execution_count": 85,
   "metadata": {},
   "outputs": [
    {
     "data": {
      "text/html": [
       "<div>\n",
       "<style scoped>\n",
       "    .dataframe tbody tr th:only-of-type {\n",
       "        vertical-align: middle;\n",
       "    }\n",
       "\n",
       "    .dataframe tbody tr th {\n",
       "        vertical-align: top;\n",
       "    }\n",
       "\n",
       "    .dataframe thead th {\n",
       "        text-align: right;\n",
       "    }\n",
       "</style>\n",
       "<table border=\"1\" class=\"dataframe\">\n",
       "  <thead>\n",
       "    <tr style=\"text-align: right;\">\n",
       "      <th></th>\n",
       "      <th>Customer_ID</th>\n",
       "      <th>Interest_Rate</th>\n",
       "    </tr>\n",
       "  </thead>\n",
       "  <tbody>\n",
       "    <tr>\n",
       "      <th>71640</th>\n",
       "      <td>CUS_0x3fd9</td>\n",
       "      <td>17</td>\n",
       "    </tr>\n",
       "    <tr>\n",
       "      <th>71641</th>\n",
       "      <td>CUS_0x3fd9</td>\n",
       "      <td>5797</td>\n",
       "    </tr>\n",
       "    <tr>\n",
       "      <th>71642</th>\n",
       "      <td>CUS_0x3fd9</td>\n",
       "      <td>17</td>\n",
       "    </tr>\n",
       "    <tr>\n",
       "      <th>71643</th>\n",
       "      <td>CUS_0x3fd9</td>\n",
       "      <td>17</td>\n",
       "    </tr>\n",
       "    <tr>\n",
       "      <th>71644</th>\n",
       "      <td>CUS_0x3fd9</td>\n",
       "      <td>3037</td>\n",
       "    </tr>\n",
       "  </tbody>\n",
       "</table>\n",
       "</div>"
      ],
      "text/plain": [
       "      Customer_ID  Interest_Rate\n",
       "71640  CUS_0x3fd9             17\n",
       "71641  CUS_0x3fd9           5797\n",
       "71642  CUS_0x3fd9             17\n",
       "71643  CUS_0x3fd9             17\n",
       "71644  CUS_0x3fd9           3037"
      ]
     },
     "execution_count": 85,
     "metadata": {},
     "output_type": "execute_result"
    }
   ],
   "source": [
    "df_clean[df_clean.Customer_ID == 'CUS_0x3fd9'].head()[['Customer_ID','Interest_Rate']]"
   ]
  },
  {
   "cell_type": "code",
   "execution_count": 86,
   "metadata": {},
   "outputs": [
    {
     "data": {
      "text/plain": [
       "1"
      ]
     },
     "execution_count": 86,
     "metadata": {},
     "output_type": "execute_result"
    },
    {
     "data": {
      "text/plain": [
       "5797"
      ]
     },
     "execution_count": 86,
     "metadata": {},
     "output_type": "execute_result"
    }
   ],
   "source": [
    "df_clean.Interest_Rate.min()\n",
    "\n",
    "df_clean.Interest_Rate.max()"
   ]
  },
  {
   "cell_type": "code",
   "execution_count": 87,
   "metadata": {},
   "outputs": [],
   "source": [
    "df_IR = df_clean[((df_clean.Interest_Rate).astype(int)<51)][['SSN_y','Interest_Rate']]"
   ]
  },
  {
   "cell_type": "code",
   "execution_count": 88,
   "metadata": {},
   "outputs": [],
   "source": [
    "df_IR = df_IR.drop_duplicates()\n",
    "df_IR = df_IR.drop_duplicates(subset = ['SSN_y'])"
   ]
  },
  {
   "cell_type": "code",
   "execution_count": 89,
   "metadata": {},
   "outputs": [],
   "source": [
    "df_clean = df_clean.merge(df_IR, left_on = 'SSN_y', right_on = 'SSN_y', how = 'left')"
   ]
  },
  {
   "cell_type": "code",
   "execution_count": 90,
   "metadata": {},
   "outputs": [
    {
     "data": {
      "text/html": [
       "<div>\n",
       "<style scoped>\n",
       "    .dataframe tbody tr th:only-of-type {\n",
       "        vertical-align: middle;\n",
       "    }\n",
       "\n",
       "    .dataframe tbody tr th {\n",
       "        vertical-align: top;\n",
       "    }\n",
       "\n",
       "    .dataframe thead th {\n",
       "        text-align: right;\n",
       "    }\n",
       "</style>\n",
       "<table border=\"1\" class=\"dataframe\">\n",
       "  <thead>\n",
       "    <tr style=\"text-align: right;\">\n",
       "      <th></th>\n",
       "      <th>Customer_ID</th>\n",
       "      <th>Interest_Rate_x</th>\n",
       "      <th>Interest_Rate_y</th>\n",
       "    </tr>\n",
       "  </thead>\n",
       "  <tbody>\n",
       "    <tr>\n",
       "      <th>71640</th>\n",
       "      <td>CUS_0x3fd9</td>\n",
       "      <td>17</td>\n",
       "      <td>17</td>\n",
       "    </tr>\n",
       "    <tr>\n",
       "      <th>71641</th>\n",
       "      <td>CUS_0x3fd9</td>\n",
       "      <td>5797</td>\n",
       "      <td>17</td>\n",
       "    </tr>\n",
       "    <tr>\n",
       "      <th>71642</th>\n",
       "      <td>CUS_0x3fd9</td>\n",
       "      <td>17</td>\n",
       "      <td>17</td>\n",
       "    </tr>\n",
       "    <tr>\n",
       "      <th>71643</th>\n",
       "      <td>CUS_0x3fd9</td>\n",
       "      <td>17</td>\n",
       "      <td>17</td>\n",
       "    </tr>\n",
       "    <tr>\n",
       "      <th>71644</th>\n",
       "      <td>CUS_0x3fd9</td>\n",
       "      <td>3037</td>\n",
       "      <td>17</td>\n",
       "    </tr>\n",
       "  </tbody>\n",
       "</table>\n",
       "</div>"
      ],
      "text/plain": [
       "      Customer_ID  Interest_Rate_x  Interest_Rate_y\n",
       "71640  CUS_0x3fd9               17               17\n",
       "71641  CUS_0x3fd9             5797               17\n",
       "71642  CUS_0x3fd9               17               17\n",
       "71643  CUS_0x3fd9               17               17\n",
       "71644  CUS_0x3fd9             3037               17"
      ]
     },
     "execution_count": 90,
     "metadata": {},
     "output_type": "execute_result"
    }
   ],
   "source": [
    "df_clean[df_clean.Customer_ID == 'CUS_0x3fd9'].head()[['Customer_ID','Interest_Rate_x','Interest_Rate_y']]"
   ]
  },
  {
   "cell_type": "code",
   "execution_count": 91,
   "metadata": {},
   "outputs": [],
   "source": [
    "df_clean = df_clean.drop(columns = ['Interest_Rate_x'],axis = 1)\n",
    "df_clean.rename(columns = {'Interest_Rate_y':'Interest_Rate'}, inplace = True)"
   ]
  },
  {
   "cell_type": "code",
   "execution_count": 92,
   "metadata": {},
   "outputs": [],
   "source": [
    "del(df_IR)"
   ]
  },
  {
   "cell_type": "markdown",
   "metadata": {},
   "source": [
    "Additionally, there are some data entry mistakes in the \"Number of Bank Accounts\" column. "
   ]
  },
  {
   "cell_type": "code",
   "execution_count": 93,
   "metadata": {},
   "outputs": [
    {
     "data": {
      "text/plain": [
       "1798"
      ]
     },
     "execution_count": 93,
     "metadata": {},
     "output_type": "execute_result"
    }
   ],
   "source": [
    "df_clean.Num_Bank_Accounts.max()"
   ]
  },
  {
   "cell_type": "code",
   "execution_count": 94,
   "metadata": {},
   "outputs": [
    {
     "data": {
      "text/html": [
       "<div>\n",
       "<style scoped>\n",
       "    .dataframe tbody tr th:only-of-type {\n",
       "        vertical-align: middle;\n",
       "    }\n",
       "\n",
       "    .dataframe tbody tr th {\n",
       "        vertical-align: top;\n",
       "    }\n",
       "\n",
       "    .dataframe thead th {\n",
       "        text-align: right;\n",
       "    }\n",
       "</style>\n",
       "<table border=\"1\" class=\"dataframe\">\n",
       "  <thead>\n",
       "    <tr style=\"text-align: right;\">\n",
       "      <th></th>\n",
       "      <th>Customer_ID</th>\n",
       "      <th>SSN_y</th>\n",
       "      <th>Num_Bank_Accounts</th>\n",
       "    </tr>\n",
       "  </thead>\n",
       "  <tbody>\n",
       "    <tr>\n",
       "      <th>30330</th>\n",
       "      <td>CUS_0x4f2a</td>\n",
       "      <td>807-03-5415</td>\n",
       "      <td>-1</td>\n",
       "    </tr>\n",
       "    <tr>\n",
       "      <th>30331</th>\n",
       "      <td>CUS_0x4f2a</td>\n",
       "      <td>807-03-5415</td>\n",
       "      <td>-1</td>\n",
       "    </tr>\n",
       "    <tr>\n",
       "      <th>30332</th>\n",
       "      <td>CUS_0x4f2a</td>\n",
       "      <td>807-03-5415</td>\n",
       "      <td>-1</td>\n",
       "    </tr>\n",
       "    <tr>\n",
       "      <th>30333</th>\n",
       "      <td>CUS_0x4f2a</td>\n",
       "      <td>807-03-5415</td>\n",
       "      <td>-1</td>\n",
       "    </tr>\n",
       "    <tr>\n",
       "      <th>30334</th>\n",
       "      <td>CUS_0x4f2a</td>\n",
       "      <td>807-03-5415</td>\n",
       "      <td>-1</td>\n",
       "    </tr>\n",
       "  </tbody>\n",
       "</table>\n",
       "</div>"
      ],
      "text/plain": [
       "      Customer_ID        SSN_y  Num_Bank_Accounts\n",
       "30330  CUS_0x4f2a  807-03-5415                 -1\n",
       "30331  CUS_0x4f2a  807-03-5415                 -1\n",
       "30332  CUS_0x4f2a  807-03-5415                 -1\n",
       "30333  CUS_0x4f2a  807-03-5415                 -1\n",
       "30334  CUS_0x4f2a  807-03-5415                 -1"
      ]
     },
     "execution_count": 94,
     "metadata": {},
     "output_type": "execute_result"
    }
   ],
   "source": [
    "df_clean[df_clean.Num_Bank_Accounts == df_clean.Num_Bank_Accounts.min()].head()[['Customer_ID','SSN_y','Num_Bank_Accounts']]"
   ]
  },
  {
   "cell_type": "code",
   "execution_count": 95,
   "metadata": {},
   "outputs": [],
   "source": [
    "df_clean['Num_Bank_Accounts'] = df_clean.apply(lambda x: 0 if x.Num_Bank_Accounts < 0 else x.Num_Bank_Accounts , axis = 1)"
   ]
  },
  {
   "cell_type": "code",
   "execution_count": 96,
   "metadata": {},
   "outputs": [
    {
     "data": {
      "text/plain": [
       "0"
      ]
     },
     "execution_count": 96,
     "metadata": {},
     "output_type": "execute_result"
    }
   ],
   "source": [
    "df_clean['Num_Bank_Accounts'].min()"
   ]
  },
  {
   "cell_type": "code",
   "execution_count": 97,
   "metadata": {},
   "outputs": [
    {
     "data": {
      "text/html": [
       "<div>\n",
       "<style scoped>\n",
       "    .dataframe tbody tr th:only-of-type {\n",
       "        vertical-align: middle;\n",
       "    }\n",
       "\n",
       "    .dataframe tbody tr th {\n",
       "        vertical-align: top;\n",
       "    }\n",
       "\n",
       "    .dataframe thead th {\n",
       "        text-align: right;\n",
       "    }\n",
       "</style>\n",
       "<table border=\"1\" class=\"dataframe\">\n",
       "  <thead>\n",
       "    <tr style=\"text-align: right;\">\n",
       "      <th></th>\n",
       "      <th>Customer_ID</th>\n",
       "      <th>SSN_y</th>\n",
       "      <th>Num_Bank_Accounts</th>\n",
       "    </tr>\n",
       "  </thead>\n",
       "  <tbody>\n",
       "    <tr>\n",
       "      <th>64536</th>\n",
       "      <td>CUS_0x11c1</td>\n",
       "      <td>688-99-5258</td>\n",
       "      <td>6</td>\n",
       "    </tr>\n",
       "    <tr>\n",
       "      <th>64537</th>\n",
       "      <td>CUS_0x11c1</td>\n",
       "      <td>688-99-5258</td>\n",
       "      <td>1798</td>\n",
       "    </tr>\n",
       "    <tr>\n",
       "      <th>64538</th>\n",
       "      <td>CUS_0x11c1</td>\n",
       "      <td>688-99-5258</td>\n",
       "      <td>6</td>\n",
       "    </tr>\n",
       "    <tr>\n",
       "      <th>64539</th>\n",
       "      <td>CUS_0x11c1</td>\n",
       "      <td>688-99-5258</td>\n",
       "      <td>6</td>\n",
       "    </tr>\n",
       "    <tr>\n",
       "      <th>64540</th>\n",
       "      <td>CUS_0x11c1</td>\n",
       "      <td>688-99-5258</td>\n",
       "      <td>6</td>\n",
       "    </tr>\n",
       "  </tbody>\n",
       "</table>\n",
       "</div>"
      ],
      "text/plain": [
       "      Customer_ID        SSN_y  Num_Bank_Accounts\n",
       "64536  CUS_0x11c1  688-99-5258                  6\n",
       "64537  CUS_0x11c1  688-99-5258               1798\n",
       "64538  CUS_0x11c1  688-99-5258                  6\n",
       "64539  CUS_0x11c1  688-99-5258                  6\n",
       "64540  CUS_0x11c1  688-99-5258                  6"
      ]
     },
     "execution_count": 97,
     "metadata": {},
     "output_type": "execute_result"
    }
   ],
   "source": [
    "df_clean[df_clean.Customer_ID == 'CUS_0x11c1'].head()[['Customer_ID','SSN_y','Num_Bank_Accounts']]"
   ]
  },
  {
   "cell_type": "code",
   "execution_count": 98,
   "metadata": {},
   "outputs": [],
   "source": [
    "df_NBA = df_clean[df_clean.Num_Bank_Accounts < 15][['SSN_y','Num_Bank_Accounts']]"
   ]
  },
  {
   "cell_type": "code",
   "execution_count": 99,
   "metadata": {},
   "outputs": [],
   "source": [
    "df_NBA = df_NBA.drop_duplicates()\n",
    "df_NBA = df_NBA.drop_duplicates(subset = ['SSN_y'])"
   ]
  },
  {
   "cell_type": "code",
   "execution_count": 100,
   "metadata": {},
   "outputs": [],
   "source": [
    "df_clean = df_clean.merge(df_NBA, left_on = 'SSN_y', right_on = 'SSN_y', how = 'left')"
   ]
  },
  {
   "cell_type": "code",
   "execution_count": 101,
   "metadata": {},
   "outputs": [
    {
     "data": {
      "text/html": [
       "<div>\n",
       "<style scoped>\n",
       "    .dataframe tbody tr th:only-of-type {\n",
       "        vertical-align: middle;\n",
       "    }\n",
       "\n",
       "    .dataframe tbody tr th {\n",
       "        vertical-align: top;\n",
       "    }\n",
       "\n",
       "    .dataframe thead th {\n",
       "        text-align: right;\n",
       "    }\n",
       "</style>\n",
       "<table border=\"1\" class=\"dataframe\">\n",
       "  <thead>\n",
       "    <tr style=\"text-align: right;\">\n",
       "      <th></th>\n",
       "      <th>Customer_ID</th>\n",
       "      <th>SSN_y</th>\n",
       "      <th>Num_Bank_Accounts_x</th>\n",
       "      <th>Num_Bank_Accounts_y</th>\n",
       "    </tr>\n",
       "  </thead>\n",
       "  <tbody>\n",
       "    <tr>\n",
       "      <th>64536</th>\n",
       "      <td>CUS_0x11c1</td>\n",
       "      <td>688-99-5258</td>\n",
       "      <td>6</td>\n",
       "      <td>6</td>\n",
       "    </tr>\n",
       "    <tr>\n",
       "      <th>64537</th>\n",
       "      <td>CUS_0x11c1</td>\n",
       "      <td>688-99-5258</td>\n",
       "      <td>1798</td>\n",
       "      <td>6</td>\n",
       "    </tr>\n",
       "    <tr>\n",
       "      <th>64538</th>\n",
       "      <td>CUS_0x11c1</td>\n",
       "      <td>688-99-5258</td>\n",
       "      <td>6</td>\n",
       "      <td>6</td>\n",
       "    </tr>\n",
       "    <tr>\n",
       "      <th>64539</th>\n",
       "      <td>CUS_0x11c1</td>\n",
       "      <td>688-99-5258</td>\n",
       "      <td>6</td>\n",
       "      <td>6</td>\n",
       "    </tr>\n",
       "    <tr>\n",
       "      <th>64540</th>\n",
       "      <td>CUS_0x11c1</td>\n",
       "      <td>688-99-5258</td>\n",
       "      <td>6</td>\n",
       "      <td>6</td>\n",
       "    </tr>\n",
       "  </tbody>\n",
       "</table>\n",
       "</div>"
      ],
      "text/plain": [
       "      Customer_ID        SSN_y  Num_Bank_Accounts_x  Num_Bank_Accounts_y\n",
       "64536  CUS_0x11c1  688-99-5258                    6                    6\n",
       "64537  CUS_0x11c1  688-99-5258                 1798                    6\n",
       "64538  CUS_0x11c1  688-99-5258                    6                    6\n",
       "64539  CUS_0x11c1  688-99-5258                    6                    6\n",
       "64540  CUS_0x11c1  688-99-5258                    6                    6"
      ]
     },
     "execution_count": 101,
     "metadata": {},
     "output_type": "execute_result"
    }
   ],
   "source": [
    "df_clean[df_clean.Customer_ID == 'CUS_0x11c1'].head()[['Customer_ID','SSN_y','Num_Bank_Accounts_x','Num_Bank_Accounts_y']]"
   ]
  },
  {
   "cell_type": "code",
   "execution_count": 102,
   "metadata": {},
   "outputs": [],
   "source": [
    "df_clean = df_clean.drop(columns = ['Num_Bank_Accounts_x'],axis = 1)\n",
    "df_clean.rename(columns = {'Num_Bank_Accounts_y':'Num_Bank_Accounts'}, inplace = True)"
   ]
  },
  {
   "cell_type": "code",
   "execution_count": 103,
   "metadata": {},
   "outputs": [],
   "source": [
    "del(df_NBA)"
   ]
  },
  {
   "cell_type": "markdown",
   "metadata": {},
   "source": [
    "We discovered that the Credit card column also contains data entry mistakes, so we are correcting those.\n"
   ]
  },
  {
   "cell_type": "code",
   "execution_count": 104,
   "metadata": {},
   "outputs": [
    {
     "data": {
      "text/plain": [
       "1499"
      ]
     },
     "execution_count": 104,
     "metadata": {},
     "output_type": "execute_result"
    },
    {
     "data": {
      "text/plain": [
       "0"
      ]
     },
     "execution_count": 104,
     "metadata": {},
     "output_type": "execute_result"
    }
   ],
   "source": [
    "df_clean.Num_Credit_Card.max()\n",
    "\n",
    "df_clean.Num_Credit_Card.min()"
   ]
  },
  {
   "cell_type": "code",
   "execution_count": 105,
   "metadata": {},
   "outputs": [
    {
     "data": {
      "text/html": [
       "<div>\n",
       "<style scoped>\n",
       "    .dataframe tbody tr th:only-of-type {\n",
       "        vertical-align: middle;\n",
       "    }\n",
       "\n",
       "    .dataframe tbody tr th {\n",
       "        vertical-align: top;\n",
       "    }\n",
       "\n",
       "    .dataframe thead th {\n",
       "        text-align: right;\n",
       "    }\n",
       "</style>\n",
       "<table border=\"1\" class=\"dataframe\">\n",
       "  <thead>\n",
       "    <tr style=\"text-align: right;\">\n",
       "      <th></th>\n",
       "      <th>Customer_ID</th>\n",
       "      <th>SSN_y</th>\n",
       "      <th>Num_Credit_Card</th>\n",
       "    </tr>\n",
       "  </thead>\n",
       "  <tbody>\n",
       "    <tr>\n",
       "      <th>25011</th>\n",
       "      <td>CUS_0x1fdc</td>\n",
       "      <td>896-78-0268</td>\n",
       "      <td>3</td>\n",
       "    </tr>\n",
       "    <tr>\n",
       "      <th>25012</th>\n",
       "      <td>CUS_0x1fdc</td>\n",
       "      <td>896-78-0268</td>\n",
       "      <td>3</td>\n",
       "    </tr>\n",
       "    <tr>\n",
       "      <th>25013</th>\n",
       "      <td>CUS_0x1fdc</td>\n",
       "      <td>896-78-0268</td>\n",
       "      <td>3</td>\n",
       "    </tr>\n",
       "    <tr>\n",
       "      <th>25014</th>\n",
       "      <td>CUS_0x1fdc</td>\n",
       "      <td>896-78-0268</td>\n",
       "      <td>3</td>\n",
       "    </tr>\n",
       "    <tr>\n",
       "      <th>25015</th>\n",
       "      <td>CUS_0x1fdc</td>\n",
       "      <td>896-78-0268</td>\n",
       "      <td>1499</td>\n",
       "    </tr>\n",
       "  </tbody>\n",
       "</table>\n",
       "</div>"
      ],
      "text/plain": [
       "      Customer_ID        SSN_y  Num_Credit_Card\n",
       "25011  CUS_0x1fdc  896-78-0268                3\n",
       "25012  CUS_0x1fdc  896-78-0268                3\n",
       "25013  CUS_0x1fdc  896-78-0268                3\n",
       "25014  CUS_0x1fdc  896-78-0268                3\n",
       "25015  CUS_0x1fdc  896-78-0268             1499"
      ]
     },
     "execution_count": 105,
     "metadata": {},
     "output_type": "execute_result"
    }
   ],
   "source": [
    "df_clean[df_clean.Customer_ID == 'CUS_0x1fdc'].tail()[['Customer_ID','SSN_y','Num_Credit_Card']]"
   ]
  },
  {
   "cell_type": "code",
   "execution_count": 106,
   "metadata": {},
   "outputs": [],
   "source": [
    "df_NCC = df_clean[df_clean.Num_Credit_Card <= 15][['SSN_y','Num_Credit_Card']]"
   ]
  },
  {
   "cell_type": "code",
   "execution_count": 107,
   "metadata": {},
   "outputs": [],
   "source": [
    "df_NCC = df_NCC.drop_duplicates()\n",
    "df_NCC = df_NCC.drop_duplicates(subset = ['SSN_y'])"
   ]
  },
  {
   "cell_type": "code",
   "execution_count": 108,
   "metadata": {},
   "outputs": [],
   "source": [
    "df_clean = df_clean.merge(df_NCC, left_on = 'SSN_y', right_on = 'SSN_y', how = 'left')"
   ]
  },
  {
   "cell_type": "code",
   "execution_count": 109,
   "metadata": {},
   "outputs": [
    {
     "data": {
      "text/html": [
       "<div>\n",
       "<style scoped>\n",
       "    .dataframe tbody tr th:only-of-type {\n",
       "        vertical-align: middle;\n",
       "    }\n",
       "\n",
       "    .dataframe tbody tr th {\n",
       "        vertical-align: top;\n",
       "    }\n",
       "\n",
       "    .dataframe thead th {\n",
       "        text-align: right;\n",
       "    }\n",
       "</style>\n",
       "<table border=\"1\" class=\"dataframe\">\n",
       "  <thead>\n",
       "    <tr style=\"text-align: right;\">\n",
       "      <th></th>\n",
       "      <th>Customer_ID</th>\n",
       "      <th>SSN_y</th>\n",
       "      <th>Num_Credit_Card_x</th>\n",
       "      <th>Num_Credit_Card_y</th>\n",
       "    </tr>\n",
       "  </thead>\n",
       "  <tbody>\n",
       "    <tr>\n",
       "      <th>25011</th>\n",
       "      <td>CUS_0x1fdc</td>\n",
       "      <td>896-78-0268</td>\n",
       "      <td>3</td>\n",
       "      <td>3</td>\n",
       "    </tr>\n",
       "    <tr>\n",
       "      <th>25012</th>\n",
       "      <td>CUS_0x1fdc</td>\n",
       "      <td>896-78-0268</td>\n",
       "      <td>3</td>\n",
       "      <td>3</td>\n",
       "    </tr>\n",
       "    <tr>\n",
       "      <th>25013</th>\n",
       "      <td>CUS_0x1fdc</td>\n",
       "      <td>896-78-0268</td>\n",
       "      <td>3</td>\n",
       "      <td>3</td>\n",
       "    </tr>\n",
       "    <tr>\n",
       "      <th>25014</th>\n",
       "      <td>CUS_0x1fdc</td>\n",
       "      <td>896-78-0268</td>\n",
       "      <td>3</td>\n",
       "      <td>3</td>\n",
       "    </tr>\n",
       "    <tr>\n",
       "      <th>25015</th>\n",
       "      <td>CUS_0x1fdc</td>\n",
       "      <td>896-78-0268</td>\n",
       "      <td>1499</td>\n",
       "      <td>3</td>\n",
       "    </tr>\n",
       "  </tbody>\n",
       "</table>\n",
       "</div>"
      ],
      "text/plain": [
       "      Customer_ID        SSN_y  Num_Credit_Card_x  Num_Credit_Card_y\n",
       "25011  CUS_0x1fdc  896-78-0268                  3                  3\n",
       "25012  CUS_0x1fdc  896-78-0268                  3                  3\n",
       "25013  CUS_0x1fdc  896-78-0268                  3                  3\n",
       "25014  CUS_0x1fdc  896-78-0268                  3                  3\n",
       "25015  CUS_0x1fdc  896-78-0268               1499                  3"
      ]
     },
     "execution_count": 109,
     "metadata": {},
     "output_type": "execute_result"
    }
   ],
   "source": [
    "df_clean[df_clean.Customer_ID == 'CUS_0x1fdc'].tail()[['Customer_ID','SSN_y','Num_Credit_Card_x','Num_Credit_Card_y']]"
   ]
  },
  {
   "cell_type": "code",
   "execution_count": 110,
   "metadata": {},
   "outputs": [],
   "source": [
    "df_clean = df_clean.drop(columns = ['Num_Credit_Card_x'],axis = 1)\n",
    "\n",
    "df_clean.rename(columns = {'Num_Credit_Card_y':'Num_Credit_Card'}, inplace = True)"
   ]
  },
  {
   "cell_type": "code",
   "execution_count": 111,
   "metadata": {},
   "outputs": [],
   "source": [
    "del(df_NCC)"
   ]
  },
  {
   "cell_type": "markdown",
   "metadata": {},
   "source": [
    "Cleaning Monthly Balance"
   ]
  },
  {
   "cell_type": "code",
   "execution_count": 112,
   "metadata": {},
   "outputs": [
    {
     "data": {
      "text/html": [
       "<div>\n",
       "<style scoped>\n",
       "    .dataframe tbody tr th:only-of-type {\n",
       "        vertical-align: middle;\n",
       "    }\n",
       "\n",
       "    .dataframe tbody tr th {\n",
       "        vertical-align: top;\n",
       "    }\n",
       "\n",
       "    .dataframe thead th {\n",
       "        text-align: right;\n",
       "    }\n",
       "</style>\n",
       "<table border=\"1\" class=\"dataframe\">\n",
       "  <thead>\n",
       "    <tr style=\"text-align: right;\">\n",
       "      <th></th>\n",
       "      <th>Customer_ID</th>\n",
       "      <th>Monthly_Balance</th>\n",
       "    </tr>\n",
       "  </thead>\n",
       "  <tbody>\n",
       "    <tr>\n",
       "      <th>5544</th>\n",
       "      <td>CUS_0x9885</td>\n",
       "      <td>4.233968e+02</td>\n",
       "    </tr>\n",
       "    <tr>\n",
       "      <th>5545</th>\n",
       "      <td>CUS_0x9885</td>\n",
       "      <td>-4.761905e+25</td>\n",
       "    </tr>\n",
       "    <tr>\n",
       "      <th>5546</th>\n",
       "      <td>CUS_0x9885</td>\n",
       "      <td>2.784116e+02</td>\n",
       "    </tr>\n",
       "    <tr>\n",
       "      <th>5547</th>\n",
       "      <td>CUS_0x9885</td>\n",
       "      <td>4.205569e+02</td>\n",
       "    </tr>\n",
       "    <tr>\n",
       "      <th>5548</th>\n",
       "      <td>CUS_0x9885</td>\n",
       "      <td>7.128786e+01</td>\n",
       "    </tr>\n",
       "  </tbody>\n",
       "</table>\n",
       "</div>"
      ],
      "text/plain": [
       "     Customer_ID  Monthly_Balance\n",
       "5544  CUS_0x9885     4.233968e+02\n",
       "5545  CUS_0x9885    -4.761905e+25\n",
       "5546  CUS_0x9885     2.784116e+02\n",
       "5547  CUS_0x9885     4.205569e+02\n",
       "5548  CUS_0x9885     7.128786e+01"
      ]
     },
     "execution_count": 112,
     "metadata": {},
     "output_type": "execute_result"
    }
   ],
   "source": [
    "df_clean[df_clean.Customer_ID == 'CUS_0x9885'].head()[['Customer_ID','Monthly_Balance']]"
   ]
  },
  {
   "cell_type": "code",
   "execution_count": 113,
   "metadata": {},
   "outputs": [
    {
     "data": {
      "text/html": [
       "<div>\n",
       "<style scoped>\n",
       "    .dataframe tbody tr th:only-of-type {\n",
       "        vertical-align: middle;\n",
       "    }\n",
       "\n",
       "    .dataframe tbody tr th {\n",
       "        vertical-align: top;\n",
       "    }\n",
       "\n",
       "    .dataframe thead th {\n",
       "        text-align: right;\n",
       "    }\n",
       "</style>\n",
       "<table border=\"1\" class=\"dataframe\">\n",
       "  <thead>\n",
       "    <tr style=\"text-align: right;\">\n",
       "      <th></th>\n",
       "      <th>Customer_ID</th>\n",
       "      <th>SSN_y</th>\n",
       "      <th>Monthly_Balance</th>\n",
       "    </tr>\n",
       "  </thead>\n",
       "  <tbody>\n",
       "    <tr>\n",
       "      <th>5544</th>\n",
       "      <td>CUS_0x9885</td>\n",
       "      <td>186-49-9679</td>\n",
       "      <td>4.233968e+02</td>\n",
       "    </tr>\n",
       "    <tr>\n",
       "      <th>5545</th>\n",
       "      <td>CUS_0x9885</td>\n",
       "      <td>186-49-9679</td>\n",
       "      <td>-4.761905e+25</td>\n",
       "    </tr>\n",
       "    <tr>\n",
       "      <th>5546</th>\n",
       "      <td>CUS_0x9885</td>\n",
       "      <td>186-49-9679</td>\n",
       "      <td>2.784116e+02</td>\n",
       "    </tr>\n",
       "    <tr>\n",
       "      <th>5547</th>\n",
       "      <td>CUS_0x9885</td>\n",
       "      <td>186-49-9679</td>\n",
       "      <td>4.205569e+02</td>\n",
       "    </tr>\n",
       "    <tr>\n",
       "      <th>5548</th>\n",
       "      <td>CUS_0x9885</td>\n",
       "      <td>186-49-9679</td>\n",
       "      <td>7.128786e+01</td>\n",
       "    </tr>\n",
       "  </tbody>\n",
       "</table>\n",
       "</div>"
      ],
      "text/plain": [
       "     Customer_ID        SSN_y  Monthly_Balance\n",
       "5544  CUS_0x9885  186-49-9679     4.233968e+02\n",
       "5545  CUS_0x9885  186-49-9679    -4.761905e+25\n",
       "5546  CUS_0x9885  186-49-9679     2.784116e+02\n",
       "5547  CUS_0x9885  186-49-9679     4.205569e+02\n",
       "5548  CUS_0x9885  186-49-9679     7.128786e+01"
      ]
     },
     "execution_count": 113,
     "metadata": {},
     "output_type": "execute_result"
    }
   ],
   "source": [
    "df_clean[df_clean.Customer_ID == 'CUS_0x9885'].head()[['Customer_ID','SSN_y','Monthly_Balance']]"
   ]
  },
  {
   "cell_type": "code",
   "execution_count": 114,
   "metadata": {},
   "outputs": [],
   "source": [
    "df_clean['Monthly_Balance'] = df_clean.apply(lambda x: 0 if x.Monthly_Balance < 0 else x.Monthly_Balance , axis = 1)"
   ]
  },
  {
   "cell_type": "code",
   "execution_count": 115,
   "metadata": {},
   "outputs": [
    {
     "data": {
      "text/html": [
       "<div>\n",
       "<style scoped>\n",
       "    .dataframe tbody tr th:only-of-type {\n",
       "        vertical-align: middle;\n",
       "    }\n",
       "\n",
       "    .dataframe tbody tr th {\n",
       "        vertical-align: top;\n",
       "    }\n",
       "\n",
       "    .dataframe thead th {\n",
       "        text-align: right;\n",
       "    }\n",
       "</style>\n",
       "<table border=\"1\" class=\"dataframe\">\n",
       "  <thead>\n",
       "    <tr style=\"text-align: right;\">\n",
       "      <th></th>\n",
       "      <th>Customer_ID</th>\n",
       "      <th>SSN_y</th>\n",
       "      <th>Monthly_Balance</th>\n",
       "    </tr>\n",
       "  </thead>\n",
       "  <tbody>\n",
       "    <tr>\n",
       "      <th>5544</th>\n",
       "      <td>CUS_0x9885</td>\n",
       "      <td>186-49-9679</td>\n",
       "      <td>423.396814</td>\n",
       "    </tr>\n",
       "    <tr>\n",
       "      <th>5545</th>\n",
       "      <td>CUS_0x9885</td>\n",
       "      <td>186-49-9679</td>\n",
       "      <td>0.000000</td>\n",
       "    </tr>\n",
       "    <tr>\n",
       "      <th>5546</th>\n",
       "      <td>CUS_0x9885</td>\n",
       "      <td>186-49-9679</td>\n",
       "      <td>278.411561</td>\n",
       "    </tr>\n",
       "    <tr>\n",
       "      <th>5547</th>\n",
       "      <td>CUS_0x9885</td>\n",
       "      <td>186-49-9679</td>\n",
       "      <td>420.556910</td>\n",
       "    </tr>\n",
       "    <tr>\n",
       "      <th>5548</th>\n",
       "      <td>CUS_0x9885</td>\n",
       "      <td>186-49-9679</td>\n",
       "      <td>71.287860</td>\n",
       "    </tr>\n",
       "  </tbody>\n",
       "</table>\n",
       "</div>"
      ],
      "text/plain": [
       "     Customer_ID        SSN_y  Monthly_Balance\n",
       "5544  CUS_0x9885  186-49-9679       423.396814\n",
       "5545  CUS_0x9885  186-49-9679         0.000000\n",
       "5546  CUS_0x9885  186-49-9679       278.411561\n",
       "5547  CUS_0x9885  186-49-9679       420.556910\n",
       "5548  CUS_0x9885  186-49-9679        71.287860"
      ]
     },
     "execution_count": 115,
     "metadata": {},
     "output_type": "execute_result"
    }
   ],
   "source": [
    "df_clean[df_clean.Customer_ID == 'CUS_0x9885'].head()[['Customer_ID','SSN_y','Monthly_Balance']]"
   ]
  },
  {
   "cell_type": "markdown",
   "metadata": {},
   "source": [
    "We also have a few data entry mistakes in the overall EMI column. Thus, we are fixing those mistakes.\n"
   ]
  },
  {
   "cell_type": "code",
   "execution_count": 116,
   "metadata": {},
   "outputs": [
    {
     "data": {
      "text/plain": [
       "82331.0"
      ]
     },
     "execution_count": 116,
     "metadata": {},
     "output_type": "execute_result"
    }
   ],
   "source": [
    "df_clean['Total_EMI_per_month'].max()"
   ]
  },
  {
   "cell_type": "code",
   "execution_count": 117,
   "metadata": {},
   "outputs": [
    {
     "data": {
      "text/html": [
       "<div>\n",
       "<style scoped>\n",
       "    .dataframe tbody tr th:only-of-type {\n",
       "        vertical-align: middle;\n",
       "    }\n",
       "\n",
       "    .dataframe tbody tr th {\n",
       "        vertical-align: top;\n",
       "    }\n",
       "\n",
       "    .dataframe thead th {\n",
       "        text-align: right;\n",
       "    }\n",
       "</style>\n",
       "<table border=\"1\" class=\"dataframe\">\n",
       "  <thead>\n",
       "    <tr style=\"text-align: right;\">\n",
       "      <th></th>\n",
       "      <th>Customer_ID</th>\n",
       "      <th>SSN_y</th>\n",
       "      <th>Total_EMI_per_month</th>\n",
       "    </tr>\n",
       "  </thead>\n",
       "  <tbody>\n",
       "    <tr>\n",
       "      <th>87008</th>\n",
       "      <td>CUS_0x2a3a</td>\n",
       "      <td>497-15-6884</td>\n",
       "      <td>76.806655</td>\n",
       "    </tr>\n",
       "    <tr>\n",
       "      <th>87009</th>\n",
       "      <td>CUS_0x2a3a</td>\n",
       "      <td>497-15-6884</td>\n",
       "      <td>76.806655</td>\n",
       "    </tr>\n",
       "    <tr>\n",
       "      <th>87010</th>\n",
       "      <td>CUS_0x2a3a</td>\n",
       "      <td>497-15-6884</td>\n",
       "      <td>76.806655</td>\n",
       "    </tr>\n",
       "    <tr>\n",
       "      <th>87011</th>\n",
       "      <td>CUS_0x2a3a</td>\n",
       "      <td>497-15-6884</td>\n",
       "      <td>68.953758</td>\n",
       "    </tr>\n",
       "    <tr>\n",
       "      <th>87012</th>\n",
       "      <td>CUS_0x2a3a</td>\n",
       "      <td>497-15-6884</td>\n",
       "      <td>68.953758</td>\n",
       "    </tr>\n",
       "    <tr>\n",
       "      <th>87013</th>\n",
       "      <td>CUS_0x2a3a</td>\n",
       "      <td>497-15-6884</td>\n",
       "      <td>82331.000000</td>\n",
       "    </tr>\n",
       "    <tr>\n",
       "      <th>87014</th>\n",
       "      <td>CUS_0x2a3a</td>\n",
       "      <td>497-15-6884</td>\n",
       "      <td>68.953758</td>\n",
       "    </tr>\n",
       "    <tr>\n",
       "      <th>87015</th>\n",
       "      <td>CUS_0x2a3a</td>\n",
       "      <td>497-15-6884</td>\n",
       "      <td>68.953758</td>\n",
       "    </tr>\n",
       "  </tbody>\n",
       "</table>\n",
       "</div>"
      ],
      "text/plain": [
       "      Customer_ID        SSN_y  Total_EMI_per_month\n",
       "87008  CUS_0x2a3a  497-15-6884            76.806655\n",
       "87009  CUS_0x2a3a  497-15-6884            76.806655\n",
       "87010  CUS_0x2a3a  497-15-6884            76.806655\n",
       "87011  CUS_0x2a3a  497-15-6884            68.953758\n",
       "87012  CUS_0x2a3a  497-15-6884            68.953758\n",
       "87013  CUS_0x2a3a  497-15-6884         82331.000000\n",
       "87014  CUS_0x2a3a  497-15-6884            68.953758\n",
       "87015  CUS_0x2a3a  497-15-6884            68.953758"
      ]
     },
     "execution_count": 117,
     "metadata": {},
     "output_type": "execute_result"
    }
   ],
   "source": [
    "df_clean[df_clean.Customer_ID == 'CUS_0x2a3a'][['Customer_ID','SSN_y','Total_EMI_per_month']]"
   ]
  },
  {
   "cell_type": "code",
   "execution_count": 118,
   "metadata": {},
   "outputs": [],
   "source": [
    "df_EMI = df_clean[df_clean.Total_EMI_per_month < 1800][['SSN_y','Total_EMI_per_month']]"
   ]
  },
  {
   "cell_type": "code",
   "execution_count": 119,
   "metadata": {},
   "outputs": [],
   "source": [
    "df_EMI = df_EMI.drop_duplicates()\n",
    "df_EMI = df_EMI.drop_duplicates(subset = ['SSN_y'])"
   ]
  },
  {
   "cell_type": "code",
   "execution_count": 120,
   "metadata": {},
   "outputs": [],
   "source": [
    "df_clean = df_clean.merge(df_EMI, left_on = 'SSN_y', right_on = 'SSN_y', how = 'left')"
   ]
  },
  {
   "cell_type": "code",
   "execution_count": 121,
   "metadata": {},
   "outputs": [],
   "source": [
    "df_clean['Total_EMI_per_month_y'] = df_clean.apply(lambda x: x.Total_EMI_per_month_x if x.Total_EMI_per_month_x < 1800 else \\\n",
    "                                                   x.Total_EMI_per_month_y , axis = 1)"
   ]
  },
  {
   "cell_type": "code",
   "execution_count": 122,
   "metadata": {},
   "outputs": [
    {
     "data": {
      "text/html": [
       "<div>\n",
       "<style scoped>\n",
       "    .dataframe tbody tr th:only-of-type {\n",
       "        vertical-align: middle;\n",
       "    }\n",
       "\n",
       "    .dataframe tbody tr th {\n",
       "        vertical-align: top;\n",
       "    }\n",
       "\n",
       "    .dataframe thead th {\n",
       "        text-align: right;\n",
       "    }\n",
       "</style>\n",
       "<table border=\"1\" class=\"dataframe\">\n",
       "  <thead>\n",
       "    <tr style=\"text-align: right;\">\n",
       "      <th></th>\n",
       "      <th>Customer_ID</th>\n",
       "      <th>SSN_y</th>\n",
       "      <th>Total_EMI_per_month_x</th>\n",
       "      <th>Total_EMI_per_month_y</th>\n",
       "    </tr>\n",
       "  </thead>\n",
       "  <tbody>\n",
       "    <tr>\n",
       "      <th>87011</th>\n",
       "      <td>CUS_0x2a3a</td>\n",
       "      <td>497-15-6884</td>\n",
       "      <td>68.953758</td>\n",
       "      <td>68.953758</td>\n",
       "    </tr>\n",
       "    <tr>\n",
       "      <th>87012</th>\n",
       "      <td>CUS_0x2a3a</td>\n",
       "      <td>497-15-6884</td>\n",
       "      <td>68.953758</td>\n",
       "      <td>68.953758</td>\n",
       "    </tr>\n",
       "    <tr>\n",
       "      <th>87013</th>\n",
       "      <td>CUS_0x2a3a</td>\n",
       "      <td>497-15-6884</td>\n",
       "      <td>82331.000000</td>\n",
       "      <td>76.806655</td>\n",
       "    </tr>\n",
       "    <tr>\n",
       "      <th>87014</th>\n",
       "      <td>CUS_0x2a3a</td>\n",
       "      <td>497-15-6884</td>\n",
       "      <td>68.953758</td>\n",
       "      <td>68.953758</td>\n",
       "    </tr>\n",
       "    <tr>\n",
       "      <th>87015</th>\n",
       "      <td>CUS_0x2a3a</td>\n",
       "      <td>497-15-6884</td>\n",
       "      <td>68.953758</td>\n",
       "      <td>68.953758</td>\n",
       "    </tr>\n",
       "  </tbody>\n",
       "</table>\n",
       "</div>"
      ],
      "text/plain": [
       "      Customer_ID        SSN_y  Total_EMI_per_month_x  Total_EMI_per_month_y\n",
       "87011  CUS_0x2a3a  497-15-6884              68.953758              68.953758\n",
       "87012  CUS_0x2a3a  497-15-6884              68.953758              68.953758\n",
       "87013  CUS_0x2a3a  497-15-6884           82331.000000              76.806655\n",
       "87014  CUS_0x2a3a  497-15-6884              68.953758              68.953758\n",
       "87015  CUS_0x2a3a  497-15-6884              68.953758              68.953758"
      ]
     },
     "execution_count": 122,
     "metadata": {},
     "output_type": "execute_result"
    }
   ],
   "source": [
    "df_clean[df_clean.Customer_ID == 'CUS_0x2a3a'].tail()[['Customer_ID','SSN_y','Total_EMI_per_month_x','Total_EMI_per_month_y']]"
   ]
  },
  {
   "cell_type": "code",
   "execution_count": 123,
   "metadata": {},
   "outputs": [],
   "source": [
    "df_clean = df_clean.drop(columns = ['Total_EMI_per_month_y'],axis = 1)\n",
    "\n",
    "df_clean.rename(columns = {'Total_EMI_per_month_x':'Total_EMI_per_month'}, inplace = True)"
   ]
  },
  {
   "cell_type": "code",
   "execution_count": 124,
   "metadata": {},
   "outputs": [],
   "source": [
    "del(df_EMI)"
   ]
  },
  {
   "cell_type": "code",
   "execution_count": 125,
   "metadata": {},
   "outputs": [],
   "source": [
    "df_clean.Num_of_Delayed_Payment = df_clean.Num_of_Delayed_Payment.astype(float)"
   ]
  },
  {
   "cell_type": "code",
   "execution_count": 126,
   "metadata": {},
   "outputs": [
    {
     "data": {
      "text/plain": [
       "4397.0"
      ]
     },
     "execution_count": 126,
     "metadata": {},
     "output_type": "execute_result"
    }
   ],
   "source": [
    "df_clean.Num_of_Delayed_Payment.max()"
   ]
  },
  {
   "cell_type": "code",
   "execution_count": 127,
   "metadata": {},
   "outputs": [
    {
     "data": {
      "text/html": [
       "<div>\n",
       "<style scoped>\n",
       "    .dataframe tbody tr th:only-of-type {\n",
       "        vertical-align: middle;\n",
       "    }\n",
       "\n",
       "    .dataframe tbody tr th {\n",
       "        vertical-align: top;\n",
       "    }\n",
       "\n",
       "    .dataframe thead th {\n",
       "        text-align: right;\n",
       "    }\n",
       "</style>\n",
       "<table border=\"1\" class=\"dataframe\">\n",
       "  <thead>\n",
       "    <tr style=\"text-align: right;\">\n",
       "      <th></th>\n",
       "      <th>Customer_ID</th>\n",
       "      <th>SSN_y</th>\n",
       "      <th>Num_of_Delayed_Payment</th>\n",
       "    </tr>\n",
       "  </thead>\n",
       "  <tbody>\n",
       "    <tr>\n",
       "      <th>51563</th>\n",
       "      <td>CUS_0x8f59</td>\n",
       "      <td>705-77-2792</td>\n",
       "      <td>12.0</td>\n",
       "    </tr>\n",
       "    <tr>\n",
       "      <th>51564</th>\n",
       "      <td>CUS_0x8f59</td>\n",
       "      <td>705-77-2792</td>\n",
       "      <td>12.0</td>\n",
       "    </tr>\n",
       "    <tr>\n",
       "      <th>51565</th>\n",
       "      <td>CUS_0x8f59</td>\n",
       "      <td>705-77-2792</td>\n",
       "      <td>4397.0</td>\n",
       "    </tr>\n",
       "    <tr>\n",
       "      <th>51566</th>\n",
       "      <td>CUS_0x8f59</td>\n",
       "      <td>705-77-2792</td>\n",
       "      <td>0.0</td>\n",
       "    </tr>\n",
       "    <tr>\n",
       "      <th>51567</th>\n",
       "      <td>CUS_0x8f59</td>\n",
       "      <td>705-77-2792</td>\n",
       "      <td>12.0</td>\n",
       "    </tr>\n",
       "  </tbody>\n",
       "</table>\n",
       "</div>"
      ],
      "text/plain": [
       "      Customer_ID        SSN_y  Num_of_Delayed_Payment\n",
       "51563  CUS_0x8f59  705-77-2792                    12.0\n",
       "51564  CUS_0x8f59  705-77-2792                    12.0\n",
       "51565  CUS_0x8f59  705-77-2792                  4397.0\n",
       "51566  CUS_0x8f59  705-77-2792                     0.0\n",
       "51567  CUS_0x8f59  705-77-2792                    12.0"
      ]
     },
     "execution_count": 127,
     "metadata": {},
     "output_type": "execute_result"
    }
   ],
   "source": [
    "df_clean[df_clean.Customer_ID == 'CUS_0x8f59'].tail()[['Customer_ID','SSN_y','Num_of_Delayed_Payment']]"
   ]
  },
  {
   "cell_type": "code",
   "execution_count": 128,
   "metadata": {},
   "outputs": [],
   "source": [
    "df_NDP = df_clean[(df_clean.Num_of_Delayed_Payment >0)&(df_clean.Num_of_Delayed_Payment < 50)][['SSN_y','Num_of_Delayed_Payment']]"
   ]
  },
  {
   "cell_type": "code",
   "execution_count": 129,
   "metadata": {},
   "outputs": [],
   "source": [
    "df_NDP = df_NDP.drop_duplicates()\n",
    "df_NDP = df_NDP.drop_duplicates(subset = ['SSN_y'])"
   ]
  },
  {
   "cell_type": "code",
   "execution_count": 130,
   "metadata": {},
   "outputs": [],
   "source": [
    "df_clean = df_clean.merge(df_NDP, left_on = 'SSN_y', right_on = 'SSN_y', how = 'left')"
   ]
  },
  {
   "cell_type": "code",
   "execution_count": 131,
   "metadata": {},
   "outputs": [
    {
     "data": {
      "text/html": [
       "<div>\n",
       "<style scoped>\n",
       "    .dataframe tbody tr th:only-of-type {\n",
       "        vertical-align: middle;\n",
       "    }\n",
       "\n",
       "    .dataframe tbody tr th {\n",
       "        vertical-align: top;\n",
       "    }\n",
       "\n",
       "    .dataframe thead th {\n",
       "        text-align: right;\n",
       "    }\n",
       "</style>\n",
       "<table border=\"1\" class=\"dataframe\">\n",
       "  <thead>\n",
       "    <tr style=\"text-align: right;\">\n",
       "      <th></th>\n",
       "      <th>Customer_ID</th>\n",
       "      <th>SSN_y</th>\n",
       "      <th>Num_of_Delayed_Payment_x</th>\n",
       "      <th>Num_of_Delayed_Payment_y</th>\n",
       "    </tr>\n",
       "  </thead>\n",
       "  <tbody>\n",
       "    <tr>\n",
       "      <th>51563</th>\n",
       "      <td>CUS_0x8f59</td>\n",
       "      <td>705-77-2792</td>\n",
       "      <td>12.0</td>\n",
       "      <td>12.0</td>\n",
       "    </tr>\n",
       "    <tr>\n",
       "      <th>51564</th>\n",
       "      <td>CUS_0x8f59</td>\n",
       "      <td>705-77-2792</td>\n",
       "      <td>12.0</td>\n",
       "      <td>12.0</td>\n",
       "    </tr>\n",
       "    <tr>\n",
       "      <th>51565</th>\n",
       "      <td>CUS_0x8f59</td>\n",
       "      <td>705-77-2792</td>\n",
       "      <td>4397.0</td>\n",
       "      <td>12.0</td>\n",
       "    </tr>\n",
       "    <tr>\n",
       "      <th>51566</th>\n",
       "      <td>CUS_0x8f59</td>\n",
       "      <td>705-77-2792</td>\n",
       "      <td>0.0</td>\n",
       "      <td>12.0</td>\n",
       "    </tr>\n",
       "    <tr>\n",
       "      <th>51567</th>\n",
       "      <td>CUS_0x8f59</td>\n",
       "      <td>705-77-2792</td>\n",
       "      <td>12.0</td>\n",
       "      <td>12.0</td>\n",
       "    </tr>\n",
       "  </tbody>\n",
       "</table>\n",
       "</div>"
      ],
      "text/plain": [
       "      Customer_ID        SSN_y  Num_of_Delayed_Payment_x  \\\n",
       "51563  CUS_0x8f59  705-77-2792                      12.0   \n",
       "51564  CUS_0x8f59  705-77-2792                      12.0   \n",
       "51565  CUS_0x8f59  705-77-2792                    4397.0   \n",
       "51566  CUS_0x8f59  705-77-2792                       0.0   \n",
       "51567  CUS_0x8f59  705-77-2792                      12.0   \n",
       "\n",
       "       Num_of_Delayed_Payment_y  \n",
       "51563                      12.0  \n",
       "51564                      12.0  \n",
       "51565                      12.0  \n",
       "51566                      12.0  \n",
       "51567                      12.0  "
      ]
     },
     "execution_count": 131,
     "metadata": {},
     "output_type": "execute_result"
    }
   ],
   "source": [
    "df_clean[df_clean.Customer_ID == 'CUS_0x8f59'].tail()[['Customer_ID','SSN_y','Num_of_Delayed_Payment_x','Num_of_Delayed_Payment_y']]"
   ]
  },
  {
   "cell_type": "code",
   "execution_count": 132,
   "metadata": {},
   "outputs": [],
   "source": [
    "df_clean = df_clean.drop(columns = ['Num_of_Delayed_Payment_x'],axis = 1)\n",
    "\n",
    "df_clean.rename(columns = {'Num_of_Delayed_Payment_y':'Num_of_Delayed_Payment'}, inplace = True)"
   ]
  },
  {
   "cell_type": "code",
   "execution_count": 133,
   "metadata": {},
   "outputs": [],
   "source": [
    "del(df_NDP)"
   ]
  },
  {
   "cell_type": "markdown",
   "metadata": {},
   "source": [
    "We currently have a list of each person's loan types, which we are splitting into the amount of loan types each person has.\n"
   ]
  },
  {
   "cell_type": "code",
   "execution_count": 134,
   "metadata": {},
   "outputs": [
    {
     "data": {
      "text/plain": [
       "11864"
      ]
     },
     "execution_count": 134,
     "metadata": {},
     "output_type": "execute_result"
    }
   ],
   "source": [
    "df_clean.isna().sum().sum()"
   ]
  },
  {
   "cell_type": "code",
   "execution_count": 135,
   "metadata": {},
   "outputs": [],
   "source": [
    "df_loan = df.Type_of_Loan.str.split(', ', expand = True).rename(columns={0: 'l1', 1: 'l2',2:'l3',3:'l4',4:'l5',\\\n",
    "                                                                        5:'l6',6:'l7',7:'l8',8:'l9'})"
   ]
  },
  {
   "cell_type": "code",
   "execution_count": 136,
   "metadata": {},
   "outputs": [],
   "source": [
    "lst = df_loan.l1.unique()\n",
    "\n",
    "lst = lst.astype(str)"
   ]
  },
  {
   "cell_type": "code",
   "execution_count": 137,
   "metadata": {},
   "outputs": [],
   "source": [
    "df_clean.Type_of_Loan= df_clean.Type_of_Loan.astype(str)"
   ]
  },
  {
   "cell_type": "code",
   "execution_count": 138,
   "metadata": {},
   "outputs": [],
   "source": [
    "for i in lst:\n",
    "    df_clean[i]=df_clean['Type_of_Loan'].str.count(i)"
   ]
  },
  {
   "cell_type": "code",
   "execution_count": 139,
   "metadata": {},
   "outputs": [],
   "source": [
    "thisFilter = df_clean.filter(['nan','Type_of_Loan','Num_of_Loan'])\n",
    "df_clean.drop(thisFilter, inplace=True, axis=1)"
   ]
  },
  {
   "cell_type": "code",
   "execution_count": 140,
   "metadata": {},
   "outputs": [],
   "source": [
    "del(df_loan)"
   ]
  },
  {
   "cell_type": "markdown",
   "metadata": {},
   "source": [
    "Our dataset is now clean, but before making adjustments to the categorical columns, we want to make a copy of it for visualisation.\n"
   ]
  },
  {
   "cell_type": "code",
   "execution_count": 141,
   "metadata": {},
   "outputs": [],
   "source": [
    "df_graph = df_clean.copy()"
   ]
  },
  {
   "cell_type": "code",
   "execution_count": 142,
   "metadata": {},
   "outputs": [],
   "source": [
    "pb = df_clean.Payment_Behaviour"
   ]
  },
  {
   "cell_type": "code",
   "execution_count": 143,
   "metadata": {},
   "outputs": [],
   "source": [
    "pb = pb.str.replace('_',' ')"
   ]
  },
  {
   "cell_type": "code",
   "execution_count": 144,
   "metadata": {},
   "outputs": [],
   "source": [
    "df_spend_payments = pb.str.split(' ', expand = True).rename(columns={0: 'col1', 1: 'col2',2:'col3',3:'col4',4:'col5'})"
   ]
  },
  {
   "cell_type": "code",
   "execution_count": 145,
   "metadata": {},
   "outputs": [],
   "source": [
    "df_clean['Payment_Behaviour_Spent'] = df_spend_payments.col1.apply(lambda x: 2 if x == 'High' else 1 if x == 'Low' else 0)\n",
    "df_clean['Payment_Behaviour_Valuepayments'] = df_spend_payments.col1.apply(lambda x: 2 if x == 'Large' else 1 if x == 'Medium' else 0)"
   ]
  },
  {
   "cell_type": "code",
   "execution_count": 146,
   "metadata": {},
   "outputs": [],
   "source": [
    "df_clean = df_clean.drop(columns = ['Payment_Behaviour'],axis = 1)"
   ]
  },
  {
   "cell_type": "code",
   "execution_count": 147,
   "metadata": {},
   "outputs": [],
   "source": [
    "del(pb)\n",
    "del(df_spend_payments)"
   ]
  },
  {
   "cell_type": "markdown",
   "metadata": {},
   "source": [
    "Assigning Numerical Values to each category in Occupation, Month, Credit_Score, Payment_of_Min_Amount, Credit_Mix"
   ]
  },
  {
   "cell_type": "code",
   "execution_count": 148,
   "metadata": {},
   "outputs": [],
   "source": [
    "df_clean['Occupation'] = df_clean.Occupation.apply(lambda x: 1 if x == 'Scientist' else 2 if x == 'Teacher' \\\n",
    "                                             else 3 if x == 'Engineer' else 4 if x == 'Entrepreneur' \\\n",
    "                                             else 5 if x == 'Developer' else 6 if x == 'Lawyer' \\\n",
    "                                             else 7 if x == 'Media_Manager' else 8 if x == 'Doctor'\\\n",
    "                                            else 9 if x == 'Journalist' else 10 if x == 'Manager' else 11\\\n",
    "                                            if x=='Accountant' else 12 if x=='Musician' else 13 if x=='Mechanic'\\\n",
    "                                            else 14 if x=='Writer' else 15 if x=='Architect' else 0)"
   ]
  },
  {
   "cell_type": "code",
   "execution_count": 149,
   "metadata": {},
   "outputs": [],
   "source": [
    "df_clean['Month'] = df_clean.Month.apply(lambda x: 1 if x == 'January' else 2 if x == 'February' else 3 if x == 'March'\\\n",
    "                                  else 4 if x == 'April' else 5 if x=='May' else 6 if x=='June' else 7 if x =='July'\\\n",
    "                                  else 8 if x == 'August' else 9 if x =='September' else 10 if x =='October'\\\n",
    "                                  else 11 if x=='November' else 12)"
   ]
  },
  {
   "cell_type": "code",
   "execution_count": 150,
   "metadata": {},
   "outputs": [],
   "source": [
    "df_clean['Credit_Score'] = df_clean.Credit_Score.apply(lambda x: 2 if x == 'Good' else 0 if x == 'Poor' else 1)"
   ]
  },
  {
   "cell_type": "code",
   "execution_count": 151,
   "metadata": {},
   "outputs": [],
   "source": [
    "df_clean['Payment_of_Min_Amount'] = df.Payment_of_Min_Amount.apply(lambda x: 1 if x == 'Yes' else 0)"
   ]
  },
  {
   "cell_type": "code",
   "execution_count": 152,
   "metadata": {},
   "outputs": [],
   "source": [
    "df_clean['Credit_Mix'] = df_clean.Credit_Mix.apply(lambda x: 2 if x == 'Good' else 0 if x == 'Bad' else 1)"
   ]
  },
  {
   "cell_type": "markdown",
   "metadata": {},
   "source": [
    "<h1>5. Exploratory Data Analysis<h1>"
   ]
  },
  {
   "cell_type": "code",
   "execution_count": 153,
   "metadata": {},
   "outputs": [],
   "source": [
    "df_graph.Annual_Income = df_graph.Annual_Income.astype(float)\n",
    "df_graph.Outstanding_Debt = df_graph.Outstanding_Debt.astype(float)\n",
    "df_graph.Annual_Income = df_graph.Annual_Income.astype(float)\n",
    "df_graph.Num_of_Delayed_Payment = df_graph.Num_of_Delayed_Payment.astype(float)\n",
    "df_graph.Interest_Rate = df_graph.Interest_Rate.astype(float)"
   ]
  },
  {
   "cell_type": "code",
   "execution_count": 160,
   "metadata": {},
   "outputs": [
    {
     "data": {
      "text/plain": [
       "<Figure size 864x288 with 0 Axes>"
      ]
     },
     "execution_count": 160,
     "metadata": {},
     "output_type": "execute_result"
    },
    {
     "data": {
      "text/plain": [
       "<seaborn.axisgrid.FacetGrid at 0x262f3f90cc0>"
      ]
     },
     "execution_count": 160,
     "metadata": {},
     "output_type": "execute_result"
    },
    {
     "data": {
      "text/plain": [
       "<Figure size 864x288 with 0 Axes>"
      ]
     },
     "metadata": {},
     "output_type": "display_data"
    },
    {
     "data": {
      "image/png": "[encoded data removed]",
      "text/plain": [
       "<Figure size 720x360 with 1 Axes>"
      ]
     },
     "metadata": {},
     "output_type": "display_data"
    }
   ],
   "source": [
    "import matplotlib.pyplot as plt\n",
    "plt.figure(figsize=(12,4))\n",
    "sns.catplot(x='Credit_Score', data=df_graph,y='Interest_Rate', aspect=2, kind='bar',palette = \"OrRd\")"
   ]
  },
  {
   "cell_type": "markdown",
   "metadata": {},
   "source": [
    "The graphic demonstrates the correlation between a customer's high interest rate and their likelihood of having a low credit score."
   ]
  },
  {
   "cell_type": "code",
   "execution_count": 161,
   "metadata": {},
   "outputs": [
    {
     "data": {
      "text/plain": [
       "<matplotlib.axes._subplots.AxesSubplot at 0x262f74b9390>"
      ]
     },
     "execution_count": 161,
     "metadata": {},
     "output_type": "execute_result"
    },
    {
     "data": {
      "image/png": "[encoded data removed]",
      "text/plain": [
       "<Figure size 432x288 with 1 Axes>"
      ]
     },
     "metadata": {},
     "output_type": "display_data"
    }
   ],
   "source": [
    "sns.regplot(x='Num_Credit_Card',y='Outstanding_Debt',data=df_graph)"
   ]
  },
  {
   "cell_type": "markdown",
   "metadata": {},
   "source": [
    "We can deduce from the regression plot that as the number of credit cards rises, so does the amount of outstanding debt.\n"
   ]
  },
  {
   "cell_type": "code",
   "execution_count": 162,
   "metadata": {},
   "outputs": [
    {
     "data": {
      "text/plain": [
       "<seaborn.axisgrid.FacetGrid at 0x262f40374e0>"
      ]
     },
     "execution_count": 162,
     "metadata": {},
     "output_type": "execute_result"
    },
    {
     "data": {
      "image/png": "[encoded data removed]",
      "text/plain": [
       "<Figure size 720x360 with 1 Axes>"
      ]
     },
     "metadata": {},
     "output_type": "display_data"
    }
   ],
   "source": [
    "sns.catplot(y='Num_of_Delayed_Payment', data=df_graph, x='Credit_Score', aspect=2, kind='bar')"
   ]
  },
  {
   "cell_type": "markdown",
   "metadata": {},
   "source": [
    "We can deduce from the data that a high number of late payments results in a low credit score. Therefore, settle your bills on time.\n"
   ]
  },
  {
   "cell_type": "code",
   "execution_count": 167,
   "metadata": {
    "scrolled": true
   },
   "outputs": [
    {
     "data": {
      "text/plain": [
       "<Figure size 864x288 with 0 Axes>"
      ]
     },
     "execution_count": 167,
     "metadata": {},
     "output_type": "execute_result"
    },
    {
     "data": {
      "text/plain": [
       "<seaborn.axisgrid.FacetGrid at 0x262f7020da0>"
      ]
     },
     "execution_count": 167,
     "metadata": {},
     "output_type": "execute_result"
    },
    {
     "data": {
      "text/plain": [
       "<Figure size 864x288 with 0 Axes>"
      ]
     },
     "metadata": {},
     "output_type": "display_data"
    },
    {
     "data": {
      "image/png": "[encoded data removed]",
      "text/plain": [
       "<Figure size 720x360 with 1 Axes>"
      ]
     },
     "metadata": {},
     "output_type": "display_data"
    }
   ],
   "source": [
    "plt.figure(figsize=(12,4))\n",
    "sns.catplot(y='Credit_Score', data=df_graph, x='Credit_History_Age', aspect=2, kind='bar', palette = 'rainbow')"
   ]
  },
  {
   "cell_type": "markdown",
   "metadata": {},
   "source": [
    "."
   ]
  },
  {
   "cell_type": "markdown",
   "metadata": {},
   "source": [
    "The longer the credit history age the better the credit score!"
   ]
  },
  {
   "cell_type": "code",
   "execution_count": 168,
   "metadata": {},
   "outputs": [],
   "source": [
    "df_graph['total_loans'] = df_clean['Auto Loan'] + df_clean['Credit-Builder Loan'] + df_clean['Not Specified'] +\\\n",
    "df_clean['Personal Loan'] + df_clean['Payday Loan'] + df_clean['Mortgage Loan'] + df_clean['Home Equity Loan']+\\\n",
    "df_clean['Debt Consolidation Loan']+ df_clean['Student Loan']"
   ]
  },
  {
   "cell_type": "code",
   "execution_count": 171,
   "metadata": {},
   "outputs": [],
   "source": [
    "oci = df_graph.groupby(['Occupation','Credit_Score']).agg({'Credit_Score':'size', 'Annual_Income':'mean'}).\\\n",
    "rename(columns = {'Credit_Score':'Size'})"
   ]
  },
  {
   "cell_type": "code",
   "execution_count": 169,
   "metadata": {
    "scrolled": true
   },
   "outputs": [
    {
     "data": {
      "text/plain": [
       "<Figure size 864x288 with 0 Axes>"
      ]
     },
     "execution_count": 169,
     "metadata": {},
     "output_type": "execute_result"
    },
    {
     "data": {
      "text/plain": [
       "<seaborn.axisgrid.FacetGrid at 0x262f7020b00>"
      ]
     },
     "execution_count": 169,
     "metadata": {},
     "output_type": "execute_result"
    },
    {
     "data": {
      "text/plain": [
       "<Figure size 864x288 with 0 Axes>"
      ]
     },
     "metadata": {},
     "output_type": "display_data"
    },
    {
     "data": {
      "image/png": "[encoded data removed]",
      "text/plain": [
       "<Figure size 801.625x360 with 1 Axes>"
      ]
     },
     "metadata": {},
     "output_type": "display_data"
    }
   ],
   "source": [
    "plt.figure(figsize=(12,4))\n",
    "sns.catplot(x = 'total_loans',hue='Credit_Score', data=df_graph, y='Interest_Rate', aspect=2, kind='bar',palette = \"OrRd\")"
   ]
  },
  {
   "cell_type": "markdown",
   "metadata": {},
   "source": [
    "We can deduce from the above graph that the likelihood of having a decent credit score increases as the interest rate and the total number of loans increase."
   ]
  },
  {
   "cell_type": "markdown",
   "metadata": {},
   "source": [
    "<h1>Observation: 1<h1>"
   ]
  },
  {
   "cell_type": "code",
   "execution_count": 175,
   "metadata": {},
   "outputs": [],
   "source": [
    "oci = oci.reset_index()"
   ]
  },
  {
   "cell_type": "code",
   "execution_count": 176,
   "metadata": {},
   "outputs": [
    {
     "data": {
      "text/html": [
       "<div>\n",
       "<style scoped>\n",
       "    .dataframe tbody tr th:only-of-type {\n",
       "        vertical-align: middle;\n",
       "    }\n",
       "\n",
       "    .dataframe tbody tr th {\n",
       "        vertical-align: top;\n",
       "    }\n",
       "\n",
       "    .dataframe thead th {\n",
       "        text-align: right;\n",
       "    }\n",
       "</style>\n",
       "<table border=\"1\" class=\"dataframe\">\n",
       "  <thead>\n",
       "    <tr style=\"text-align: right;\">\n",
       "      <th></th>\n",
       "      <th>Occupation</th>\n",
       "      <th>Credit_Score</th>\n",
       "      <th>Annual_Income</th>\n",
       "    </tr>\n",
       "  </thead>\n",
       "  <tbody>\n",
       "    <tr>\n",
       "      <th>0</th>\n",
       "      <td>Accountant</td>\n",
       "      <td>Good</td>\n",
       "      <td>117132.974871</td>\n",
       "    </tr>\n",
       "    <tr>\n",
       "      <th>1</th>\n",
       "      <td>Accountant</td>\n",
       "      <td>Poor</td>\n",
       "      <td>189195.324266</td>\n",
       "    </tr>\n",
       "    <tr>\n",
       "      <th>2</th>\n",
       "      <td>Accountant</td>\n",
       "      <td>Standard</td>\n",
       "      <td>228440.396720</td>\n",
       "    </tr>\n",
       "    <tr>\n",
       "      <th>3</th>\n",
       "      <td>Architect</td>\n",
       "      <td>Good</td>\n",
       "      <td>194009.629627</td>\n",
       "    </tr>\n",
       "    <tr>\n",
       "      <th>4</th>\n",
       "      <td>Architect</td>\n",
       "      <td>Poor</td>\n",
       "      <td>146224.873272</td>\n",
       "    </tr>\n",
       "    <tr>\n",
       "      <th>5</th>\n",
       "      <td>Architect</td>\n",
       "      <td>Standard</td>\n",
       "      <td>165472.711147</td>\n",
       "    </tr>\n",
       "    <tr>\n",
       "      <th>6</th>\n",
       "      <td>Developer</td>\n",
       "      <td>Good</td>\n",
       "      <td>201040.389500</td>\n",
       "    </tr>\n",
       "    <tr>\n",
       "      <th>7</th>\n",
       "      <td>Developer</td>\n",
       "      <td>Poor</td>\n",
       "      <td>175191.111710</td>\n",
       "    </tr>\n",
       "    <tr>\n",
       "      <th>8</th>\n",
       "      <td>Developer</td>\n",
       "      <td>Standard</td>\n",
       "      <td>152617.870160</td>\n",
       "    </tr>\n",
       "    <tr>\n",
       "      <th>9</th>\n",
       "      <td>Doctor</td>\n",
       "      <td>Good</td>\n",
       "      <td>165268.558462</td>\n",
       "    </tr>\n",
       "    <tr>\n",
       "      <th>10</th>\n",
       "      <td>Doctor</td>\n",
       "      <td>Poor</td>\n",
       "      <td>107278.238595</td>\n",
       "    </tr>\n",
       "    <tr>\n",
       "      <th>11</th>\n",
       "      <td>Doctor</td>\n",
       "      <td>Standard</td>\n",
       "      <td>234345.073674</td>\n",
       "    </tr>\n",
       "    <tr>\n",
       "      <th>12</th>\n",
       "      <td>Engineer</td>\n",
       "      <td>Good</td>\n",
       "      <td>233899.364288</td>\n",
       "    </tr>\n",
       "    <tr>\n",
       "      <th>13</th>\n",
       "      <td>Engineer</td>\n",
       "      <td>Poor</td>\n",
       "      <td>166201.290425</td>\n",
       "    </tr>\n",
       "    <tr>\n",
       "      <th>14</th>\n",
       "      <td>Engineer</td>\n",
       "      <td>Standard</td>\n",
       "      <td>166847.591095</td>\n",
       "    </tr>\n",
       "    <tr>\n",
       "      <th>15</th>\n",
       "      <td>Entrepreneur</td>\n",
       "      <td>Good</td>\n",
       "      <td>199188.887722</td>\n",
       "    </tr>\n",
       "    <tr>\n",
       "      <th>16</th>\n",
       "      <td>Entrepreneur</td>\n",
       "      <td>Poor</td>\n",
       "      <td>127381.687909</td>\n",
       "    </tr>\n",
       "    <tr>\n",
       "      <th>17</th>\n",
       "      <td>Entrepreneur</td>\n",
       "      <td>Standard</td>\n",
       "      <td>199734.864929</td>\n",
       "    </tr>\n",
       "    <tr>\n",
       "      <th>18</th>\n",
       "      <td>Journalist</td>\n",
       "      <td>Good</td>\n",
       "      <td>203873.289761</td>\n",
       "    </tr>\n",
       "    <tr>\n",
       "      <th>19</th>\n",
       "      <td>Journalist</td>\n",
       "      <td>Poor</td>\n",
       "      <td>112511.002087</td>\n",
       "    </tr>\n",
       "    <tr>\n",
       "      <th>20</th>\n",
       "      <td>Journalist</td>\n",
       "      <td>Standard</td>\n",
       "      <td>183395.496602</td>\n",
       "    </tr>\n",
       "    <tr>\n",
       "      <th>21</th>\n",
       "      <td>Lawyer</td>\n",
       "      <td>Good</td>\n",
       "      <td>171587.459257</td>\n",
       "    </tr>\n",
       "    <tr>\n",
       "      <th>22</th>\n",
       "      <td>Lawyer</td>\n",
       "      <td>Poor</td>\n",
       "      <td>192076.002059</td>\n",
       "    </tr>\n",
       "    <tr>\n",
       "      <th>23</th>\n",
       "      <td>Lawyer</td>\n",
       "      <td>Standard</td>\n",
       "      <td>199109.036552</td>\n",
       "    </tr>\n",
       "    <tr>\n",
       "      <th>24</th>\n",
       "      <td>Manager</td>\n",
       "      <td>Good</td>\n",
       "      <td>127509.735311</td>\n",
       "    </tr>\n",
       "    <tr>\n",
       "      <th>25</th>\n",
       "      <td>Manager</td>\n",
       "      <td>Poor</td>\n",
       "      <td>218147.029313</td>\n",
       "    </tr>\n",
       "    <tr>\n",
       "      <th>26</th>\n",
       "      <td>Manager</td>\n",
       "      <td>Standard</td>\n",
       "      <td>149275.611381</td>\n",
       "    </tr>\n",
       "    <tr>\n",
       "      <th>27</th>\n",
       "      <td>Mechanic</td>\n",
       "      <td>Good</td>\n",
       "      <td>245714.675348</td>\n",
       "    </tr>\n",
       "    <tr>\n",
       "      <th>28</th>\n",
       "      <td>Mechanic</td>\n",
       "      <td>Poor</td>\n",
       "      <td>108341.706172</td>\n",
       "    </tr>\n",
       "    <tr>\n",
       "      <th>29</th>\n",
       "      <td>Mechanic</td>\n",
       "      <td>Standard</td>\n",
       "      <td>180030.079908</td>\n",
       "    </tr>\n",
       "    <tr>\n",
       "      <th>30</th>\n",
       "      <td>Media_Manager</td>\n",
       "      <td>Good</td>\n",
       "      <td>144619.679875</td>\n",
       "    </tr>\n",
       "    <tr>\n",
       "      <th>31</th>\n",
       "      <td>Media_Manager</td>\n",
       "      <td>Poor</td>\n",
       "      <td>152759.571831</td>\n",
       "    </tr>\n",
       "    <tr>\n",
       "      <th>32</th>\n",
       "      <td>Media_Manager</td>\n",
       "      <td>Standard</td>\n",
       "      <td>221344.144523</td>\n",
       "    </tr>\n",
       "    <tr>\n",
       "      <th>33</th>\n",
       "      <td>Musician</td>\n",
       "      <td>Good</td>\n",
       "      <td>224056.932416</td>\n",
       "    </tr>\n",
       "    <tr>\n",
       "      <th>34</th>\n",
       "      <td>Musician</td>\n",
       "      <td>Poor</td>\n",
       "      <td>170718.297220</td>\n",
       "    </tr>\n",
       "    <tr>\n",
       "      <th>35</th>\n",
       "      <td>Musician</td>\n",
       "      <td>Standard</td>\n",
       "      <td>178619.672953</td>\n",
       "    </tr>\n",
       "    <tr>\n",
       "      <th>36</th>\n",
       "      <td>Scientist</td>\n",
       "      <td>Good</td>\n",
       "      <td>267268.017656</td>\n",
       "    </tr>\n",
       "    <tr>\n",
       "      <th>37</th>\n",
       "      <td>Scientist</td>\n",
       "      <td>Poor</td>\n",
       "      <td>153308.951661</td>\n",
       "    </tr>\n",
       "    <tr>\n",
       "      <th>38</th>\n",
       "      <td>Scientist</td>\n",
       "      <td>Standard</td>\n",
       "      <td>145389.553900</td>\n",
       "    </tr>\n",
       "    <tr>\n",
       "      <th>39</th>\n",
       "      <td>Teacher</td>\n",
       "      <td>Good</td>\n",
       "      <td>106957.301900</td>\n",
       "    </tr>\n",
       "    <tr>\n",
       "      <th>40</th>\n",
       "      <td>Teacher</td>\n",
       "      <td>Poor</td>\n",
       "      <td>164635.853725</td>\n",
       "    </tr>\n",
       "    <tr>\n",
       "      <th>41</th>\n",
       "      <td>Teacher</td>\n",
       "      <td>Standard</td>\n",
       "      <td>184213.914594</td>\n",
       "    </tr>\n",
       "    <tr>\n",
       "      <th>42</th>\n",
       "      <td>Writer</td>\n",
       "      <td>Good</td>\n",
       "      <td>173053.006920</td>\n",
       "    </tr>\n",
       "    <tr>\n",
       "      <th>43</th>\n",
       "      <td>Writer</td>\n",
       "      <td>Poor</td>\n",
       "      <td>138889.465988</td>\n",
       "    </tr>\n",
       "    <tr>\n",
       "      <th>44</th>\n",
       "      <td>Writer</td>\n",
       "      <td>Standard</td>\n",
       "      <td>185776.438168</td>\n",
       "    </tr>\n",
       "  </tbody>\n",
       "</table>\n",
       "</div>"
      ],
      "text/plain": [
       "       Occupation Credit_Score  Annual_Income\n",
       "0      Accountant         Good  117132.974871\n",
       "1      Accountant         Poor  189195.324266\n",
       "2      Accountant     Standard  228440.396720\n",
       "3       Architect         Good  194009.629627\n",
       "4       Architect         Poor  146224.873272\n",
       "5       Architect     Standard  165472.711147\n",
       "6       Developer         Good  201040.389500\n",
       "7       Developer         Poor  175191.111710\n",
       "8       Developer     Standard  152617.870160\n",
       "9          Doctor         Good  165268.558462\n",
       "10         Doctor         Poor  107278.238595\n",
       "11         Doctor     Standard  234345.073674\n",
       "12       Engineer         Good  233899.364288\n",
       "13       Engineer         Poor  166201.290425\n",
       "14       Engineer     Standard  166847.591095\n",
       "15   Entrepreneur         Good  199188.887722\n",
       "16   Entrepreneur         Poor  127381.687909\n",
       "17   Entrepreneur     Standard  199734.864929\n",
       "18     Journalist         Good  203873.289761\n",
       "19     Journalist         Poor  112511.002087\n",
       "20     Journalist     Standard  183395.496602\n",
       "21         Lawyer         Good  171587.459257\n",
       "22         Lawyer         Poor  192076.002059\n",
       "23         Lawyer     Standard  199109.036552\n",
       "24        Manager         Good  127509.735311\n",
       "25        Manager         Poor  218147.029313\n",
       "26        Manager     Standard  149275.611381\n",
       "27       Mechanic         Good  245714.675348\n",
       "28       Mechanic         Poor  108341.706172\n",
       "29       Mechanic     Standard  180030.079908\n",
       "30  Media_Manager         Good  144619.679875\n",
       "31  Media_Manager         Poor  152759.571831\n",
       "32  Media_Manager     Standard  221344.144523\n",
       "33       Musician         Good  224056.932416\n",
       "34       Musician         Poor  170718.297220\n",
       "35       Musician     Standard  178619.672953\n",
       "36      Scientist         Good  267268.017656\n",
       "37      Scientist         Poor  153308.951661\n",
       "38      Scientist     Standard  145389.553900\n",
       "39        Teacher         Good  106957.301900\n",
       "40        Teacher         Poor  164635.853725\n",
       "41        Teacher     Standard  184213.914594\n",
       "42         Writer         Good  173053.006920\n",
       "43         Writer         Poor  138889.465988\n",
       "44         Writer     Standard  185776.438168"
      ]
     },
     "execution_count": 176,
     "metadata": {},
     "output_type": "execute_result"
    }
   ],
   "source": [
    "oci"
   ]
  },
  {
   "cell_type": "markdown",
   "metadata": {},
   "source": [
    "<h1>**Credit scores of managers with higher salaries are lower than those with lower salaries.**<h1>"
   ]
  },
  {
   "cell_type": "code",
   "execution_count": 177,
   "metadata": {},
   "outputs": [
    {
     "data": {
      "text/html": [
       "<div>\n",
       "<style scoped>\n",
       "    .dataframe tbody tr th:only-of-type {\n",
       "        vertical-align: middle;\n",
       "    }\n",
       "\n",
       "    .dataframe tbody tr th {\n",
       "        vertical-align: top;\n",
       "    }\n",
       "\n",
       "    .dataframe thead th {\n",
       "        text-align: right;\n",
       "    }\n",
       "</style>\n",
       "<table border=\"1\" class=\"dataframe\">\n",
       "  <thead>\n",
       "    <tr style=\"text-align: right;\">\n",
       "      <th></th>\n",
       "      <th>Occupation</th>\n",
       "      <th>Credit_Score</th>\n",
       "      <th>Annual_Income</th>\n",
       "    </tr>\n",
       "  </thead>\n",
       "  <tbody>\n",
       "    <tr>\n",
       "      <th>25</th>\n",
       "      <td>Manager</td>\n",
       "      <td>Poor</td>\n",
       "      <td>218147.029313</td>\n",
       "    </tr>\n",
       "    <tr>\n",
       "      <th>26</th>\n",
       "      <td>Manager</td>\n",
       "      <td>Standard</td>\n",
       "      <td>149275.611381</td>\n",
       "    </tr>\n",
       "    <tr>\n",
       "      <th>24</th>\n",
       "      <td>Manager</td>\n",
       "      <td>Good</td>\n",
       "      <td>127509.735311</td>\n",
       "    </tr>\n",
       "  </tbody>\n",
       "</table>\n",
       "</div>"
      ],
      "text/plain": [
       "   Occupation Credit_Score  Annual_Income\n",
       "25    Manager         Poor  218147.029313\n",
       "26    Manager     Standard  149275.611381\n",
       "24    Manager         Good  127509.735311"
      ]
     },
     "execution_count": 177,
     "metadata": {},
     "output_type": "execute_result"
    }
   ],
   "source": [
    "oci[oci.Occupation == 'Manager'].sort_values(by = 'Annual_Income',ascending = False)[0:3]"
   ]
  },
  {
   "cell_type": "code",
   "execution_count": 178,
   "metadata": {},
   "outputs": [
    {
     "data": {
      "text/plain": [
       "<seaborn.axisgrid.FacetGrid at 0x262efef7cc0>"
      ]
     },
     "execution_count": 178,
     "metadata": {},
     "output_type": "execute_result"
    },
    {
     "data": {
      "image/png": "[encoded data removed]",
      "text/plain": [
       "<Figure size 1161.62x360 with 1 Axes>"
      ]
     },
     "metadata": {},
     "output_type": "display_data"
    }
   ],
   "source": [
    "sns.catplot(y='Annual_Income', x='Occupation',hue='Credit_Score', data=df_graph, kind='bar',aspect=3)"
   ]
  },
  {
   "cell_type": "markdown",
   "metadata": {},
   "source": [
    "<h1>Observation: 2<h1>"
   ]
  },
  {
   "cell_type": "code",
   "execution_count": 179,
   "metadata": {},
   "outputs": [],
   "source": [
    "df_clean = df_clean.drop(columns = ['ID','Customer_ID','SSN_y'],axis = 1)"
   ]
  },
  {
   "cell_type": "code",
   "execution_count": 180,
   "metadata": {},
   "outputs": [],
   "source": [
    "df_clean = df_clean.astype(float)"
   ]
  },
  {
   "cell_type": "code",
   "execution_count": 181,
   "metadata": {},
   "outputs": [
    {
     "data": {
      "text/plain": [
       "Monthly_Inhand_Salary  Monthly_Balance           0.676318\n",
       "Credit_History_Age     Credit_Mix                0.634015\n",
       "Outstanding_Debt       Interest_Rate             0.629414\n",
       "Num_Bank_Accounts      Num_of_Delayed_Payment    0.599977\n",
       "Delay_from_due_date    Interest_Rate             0.589088\n",
       "Interest_Rate          Num_Bank_Accounts         0.584628\n",
       "                       Num_of_Delayed_Payment    0.572276\n",
       "Delay_from_due_date    Outstanding_Debt          0.571713\n",
       "                       Num_Bank_Accounts         0.560151\n",
       "Payment_of_Min_Amount  Interest_Rate             0.546340\n",
       "Delay_from_due_date    Num_of_Delayed_Payment    0.543357\n",
       "Payment_of_Min_Amount  Num_of_Delayed_Payment    0.510610\n",
       "Outstanding_Debt       Num_of_Delayed_Payment    0.507979\n",
       "                       Num_Bank_Accounts         0.507285\n",
       "Payment_of_Min_Amount  Num_Bank_Accounts         0.506083\n",
       "dtype: float64"
      ]
     },
     "execution_count": 181,
     "metadata": {},
     "output_type": "execute_result"
    }
   ],
   "source": [
    "corr = df_clean.corr()\n",
    "corr[corr<1].stack().nlargest(30)[::2]"
   ]
  },
  {
   "cell_type": "code",
   "execution_count": 182,
   "metadata": {},
   "outputs": [],
   "source": [
    "df_graph.Outstanding_Debt = df_graph.Outstanding_Debt.astype(float)"
   ]
  },
  {
   "cell_type": "code",
   "execution_count": 183,
   "metadata": {},
   "outputs": [],
   "source": [
    "df_graph['discretized_debt_EW']=pd.cut(df_graph.Outstanding_Debt, bins=[0, 1500, 2735, 4990])"
   ]
  },
  {
   "cell_type": "code",
   "execution_count": 184,
   "metadata": {},
   "outputs": [],
   "source": [
    "df_graph['IR_Range']=df_graph.apply(lambda x: 1 if x.Interest_Rate>24.5 else 0, axis = 1)"
   ]
  },
  {
   "cell_type": "code",
   "execution_count": 185,
   "metadata": {},
   "outputs": [
    {
     "data": {
      "text/plain": [
       "<seaborn.axisgrid.FacetGrid at 0x262f6a389b0>"
      ]
     },
     "execution_count": 185,
     "metadata": {},
     "output_type": "execute_result"
    },
    {
     "data": {
      "image/png": "[encoded data removed]",
      "text/plain": [
       "<Figure size 801.625x360 with 2 Axes>"
      ]
     },
     "metadata": {},
     "output_type": "display_data"
    }
   ],
   "source": [
    "sns.factorplot(x='discretized_debt_EW',y='Num_of_Delayed_Payment', hue='Credit_Score', col = 'IR_Range', data=df_graph, kind='bar',palette='Set2')"
   ]
  },
  {
   "cell_type": "markdown",
   "metadata": {},
   "source": [
    "<h1>**The higher the outstanding debt and the number of delayed payments, the better your credit score will be**<h1>"
   ]
  },
  {
   "cell_type": "markdown",
   "metadata": {},
   "source": [
    "<h1>Observation: 3<h1>"
   ]
  },
  {
   "cell_type": "code",
   "execution_count": 186,
   "metadata": {},
   "outputs": [],
   "source": [
    "df_clean['discretized_AI_EW']=pd.cut(df_graph.Amount_invested_monthly, bins=[0, 548,611,862,10000])"
   ]
  },
  {
   "cell_type": "code",
   "execution_count": 187,
   "metadata": {},
   "outputs": [
    {
     "data": {
      "text/plain": [
       "<seaborn.axisgrid.FacetGrid at 0x262f665c4a8>"
      ]
     },
     "execution_count": 187,
     "metadata": {},
     "output_type": "execute_result"
    },
    {
     "data": {
      "image/png": "[encoded data removed]",
      "text/plain": [
       "<Figure size 1573.62x360 with 1 Axes>"
      ]
     },
     "metadata": {},
     "output_type": "display_data"
    }
   ],
   "source": [
    "sns.catplot(y='Monthly_Balance', data=df_clean,x='discretized_AI_EW',hue='Payment_of_Min_Amount',aspect=4, kind='bar')"
   ]
  },
  {
   "cell_type": "markdown",
   "metadata": {},
   "source": [
    "<h1>**A person with a higher monthly balance is more likely to invest more rather than pay the minimum credit amount**"
   ]
  },
  {
   "cell_type": "markdown",
   "metadata": {},
   "source": [
    "<h1>Observation: 4"
   ]
  },
  {
   "cell_type": "code",
   "execution_count": 188,
   "metadata": {},
   "outputs": [
    {
     "data": {
      "text/plain": [
       "<seaborn.axisgrid.FacetGrid at 0x262f71aca58>"
      ]
     },
     "execution_count": 188,
     "metadata": {},
     "output_type": "execute_result"
    },
    {
     "data": {
      "image/png": "[encoded data removed]",
      "text/plain": [
       "<Figure size 1521.62x360 with 1 Axes>"
      ]
     },
     "metadata": {},
     "output_type": "display_data"
    }
   ],
   "source": [
    "sns.catplot(x='Interest_Rate', data=df_graph,y='Num_Credit_Card',hue = 'Credit_Score',aspect=4, kind='point')"
   ]
  },
  {
   "cell_type": "markdown",
   "metadata": {},
   "source": [
    "<h1>**Having a higher number of credit cards at the same or higher interest rate increases your chances of having a good credit score**<h1>"
   ]
  },
  {
   "cell_type": "markdown",
   "metadata": {},
   "source": [
    "<div style=\"background-color: #FADBD8;\">\n",
    "**Observations**  \n",
    "  \n",
    "    \n",
    "\n",
    "1) Credit scores of managers with higher salaries are lower than those with lower salaries.  \n",
    "  \n",
    "  \n",
    "\n",
    "2) The higher the outstanding debt and the number of delayed payments, the better your credit score will be.  \n",
    "\n",
    "3) A person with a higher monthly balance is more likely to invest more rather than pay the minimum credit amount.     \n",
    "\n",
    "4) Having a higher number of credit cards at the same or higher interest rate increases your chances of having a good credit score\n",
    "\n",
    "\n",
    "</div>"
   ]
  },
  {
   "cell_type": "markdown",
   "metadata": {},
   "source": [
    "<div style=\"background-color: #FADBD8;\">\n",
    "**Conclusion**  \n",
    "1) Make your payments on time to maintain a good credit score.  \n",
    "\n",
    "\n",
    "2) Longer Credit History leads to better Credit Score. So start EARLY!  \n",
    "\n",
    "\n",
    "3) Try to make credit card payments in full. In order to improve your credit score, you should pay more than the minimum due.\n",
    "</div>"
   ]
  }
 ],
 "metadata": {
  "kernelspec": {
   "display_name": "Python 3",
   "language": "python",
   "name": "python3"
  },
  "language_info": {
   "codemirror_mode": {
    "name": "ipython",
    "version": 3
   },
   "file_extension": ".py",
   "mimetype": "text/x-python",
   "name": "python",
   "nbconvert_exporter": "python",
   "pygments_lexer": "ipython3",
   "version": "3.6.5"
  }
 },
 "nbformat": 4,
 "nbformat_minor": 2
}
